{
  "nbformat": 4,
  "nbformat_minor": 0,
  "metadata": {
    "kernelspec": {
      "display_name": "Python 3",
      "language": "python",
      "name": "python3"
    },
    "language_info": {
      "codemirror_mode": {
        "name": "ipython",
        "version": 3
      },
      "file_extension": ".py",
      "mimetype": "text/x-python",
      "name": "python",
      "nbconvert_exporter": "python",
      "pygments_lexer": "ipython3",
      "version": "3.6.7"
    },
    "colab": {
      "name": "KNeighbors_wifis_position_v1.ipynb",
      "provenance": [],
      "collapsed_sections": []
    }
  },
  "cells": [
    {
      "cell_type": "code",
      "metadata": {
        "colab": {
          "base_uri": "https://localhost:8080/"
        },
        "id": "t-1IxmUuutlF",
        "outputId": "da392026-2f3e-45cb-832a-e510258778c6"
      },
      "source": [
        "print('Connect to google drive')\n",
        "from google.colab import drive\n",
        "drive.mount('/gdrive')"
      ],
      "execution_count": null,
      "outputs": [
        {
          "output_type": "stream",
          "name": "stdout",
          "text": [
            "Connect to google drive\n",
            "Mounted at /gdrive\n"
          ]
        }
      ]
    },
    {
      "cell_type": "code",
      "metadata": {
        "id": "FwNw-z3edZRX"
      },
      "source": [
        ""
      ],
      "execution_count": null,
      "outputs": []
    },
    {
      "cell_type": "code",
      "metadata": {
        "scrolled": true,
        "id": "VI2fLeG-usAv",
        "colab": {
          "base_uri": "https://localhost:8080/"
        },
        "outputId": "79ca5617-8eed-4d6e-f75e-3faebb5a6380"
      },
      "source": [
        "print('Import necessary libraries')\n",
        "\n",
        "import numpy as np\n",
        "import pandas as pd\n",
        "import scipy.stats as stats\n",
        "from pathlib import Path\n",
        "import glob\n",
        "import pickle\n",
        "\n",
        "import warnings\n",
        "warnings.filterwarnings(\"ignore\")\n",
        "\n",
        "import random\n",
        "import os\n",
        "os.environ[\"CUDA_VISIBLE_DEVICES\"]=\"0\"\n",
        "import gc\n",
        "import tqdm\n",
        "\n",
        "from sklearn.model_selection import StratifiedKFold, GroupKFold\n",
        "from sklearn.preprocessing import StandardScaler, LabelEncoder\n",
        "\n",
        "from sklearn import neighbors\n",
        "import joblib\n",
        "\n"
      ],
      "execution_count": null,
      "outputs": [
        {
          "output_type": "stream",
          "name": "stdout",
          "text": [
            "Import necessary libraries\n"
          ]
        }
      ]
    },
    {
      "cell_type": "code",
      "metadata": {
        "id": "w7RjlLQZH6pV"
      },
      "source": [
        "base_path='/gdrive/My Drive/Colab Notebooks/'\n",
        "weights_path='/gdrive/My Drive/Colab Notebooks/weights/'"
      ],
      "execution_count": null,
      "outputs": []
    },
    {
      "cell_type": "code",
      "metadata": {
        "id": "nGOkyJWuusA3"
      },
      "source": [
        ""
      ],
      "execution_count": null,
      "outputs": []
    },
    {
      "cell_type": "code",
      "metadata": {
        "id": "57psgoRkusA4"
      },
      "source": [
        "def euclidean_distance(x_true,y_true, x_pred, y_pred):\n",
        "    return np.mean(((x_true-x_pred)**2+(y_true-y_pred)**2)**0.5)    "
      ],
      "execution_count": null,
      "outputs": []
    },
    {
      "cell_type": "code",
      "metadata": {
        "id": "xgj_h1o7usA5"
      },
      "source": [
        "version='version1'\n"
      ],
      "execution_count": null,
      "outputs": []
    },
    {
      "cell_type": "code",
      "metadata": {
        "colab": {
          "base_uri": "https://localhost:8080/"
        },
        "id": "H8PfgShFusA6",
        "outputId": "e4b669c7-6765-4f24-f9a1-c20955a112cd"
      },
      "source": [
        "data=pd.read_csv('/gdrive/My Drive/Colab Notebooks/train.zip') #\n",
        "data.shape"
      ],
      "execution_count": null,
      "outputs": [
        {
          "output_type": "execute_result",
          "data": {
            "text/plain": [
              "(8650, 315)"
            ]
          },
          "metadata": {},
          "execution_count": 11
        }
      ]
    },
    {
      "cell_type": "code",
      "source": [
        ""
      ],
      "metadata": {
        "id": "OSkQe6AcoQPH"
      },
      "execution_count": null,
      "outputs": []
    },
    {
      "cell_type": "code",
      "metadata": {
        "scrolled": true,
        "colab": {
          "base_uri": "https://localhost:8080/",
          "height": 256
        },
        "id": "oEN-9iwVusA9",
        "outputId": "3da2baec-28b6-4064-b392-f8b7fb36821f"
      },
      "source": [
        "data.head()"
      ],
      "execution_count": null,
      "outputs": [
        {
          "output_type": "execute_result",
          "data": {
            "text/html": [
              "<div>\n",
              "<style scoped>\n",
              "    .dataframe tbody tr th:only-of-type {\n",
              "        vertical-align: middle;\n",
              "    }\n",
              "\n",
              "    .dataframe tbody tr th {\n",
              "        vertical-align: top;\n",
              "    }\n",
              "\n",
              "    .dataframe thead th {\n",
              "        text-align: right;\n",
              "    }\n",
              "</style>\n",
              "<table border=\"1\" class=\"dataframe\">\n",
              "  <thead>\n",
              "    <tr style=\"text-align: right;\">\n",
              "      <th></th>\n",
              "      <th>rsid1</th>\n",
              "      <th>rsid2</th>\n",
              "      <th>rsid3</th>\n",
              "      <th>rsid4</th>\n",
              "      <th>rsid5</th>\n",
              "      <th>rsid6</th>\n",
              "      <th>rsid7</th>\n",
              "      <th>rsid8</th>\n",
              "      <th>rsid9</th>\n",
              "      <th>rsid10</th>\n",
              "      <th>rsid11</th>\n",
              "      <th>rsid12</th>\n",
              "      <th>rsid13</th>\n",
              "      <th>rsid14</th>\n",
              "      <th>rsid15</th>\n",
              "      <th>rsid16</th>\n",
              "      <th>rsid17</th>\n",
              "      <th>rsid18</th>\n",
              "      <th>rsid19</th>\n",
              "      <th>rsid20</th>\n",
              "      <th>rsid21</th>\n",
              "      <th>rsid22</th>\n",
              "      <th>rsid23</th>\n",
              "      <th>rsid24</th>\n",
              "      <th>rsid25</th>\n",
              "      <th>rsid26</th>\n",
              "      <th>rsid27</th>\n",
              "      <th>rsid28</th>\n",
              "      <th>rsid29</th>\n",
              "      <th>rsid30</th>\n",
              "      <th>rsid31</th>\n",
              "      <th>rsid32</th>\n",
              "      <th>rsid33</th>\n",
              "      <th>rsid34</th>\n",
              "      <th>rsid35</th>\n",
              "      <th>rsid36</th>\n",
              "      <th>rsid37</th>\n",
              "      <th>rsid38</th>\n",
              "      <th>rsid39</th>\n",
              "      <th>rsid40</th>\n",
              "      <th>...</th>\n",
              "      <th>rsid276</th>\n",
              "      <th>rsid277</th>\n",
              "      <th>rsid278</th>\n",
              "      <th>rsid279</th>\n",
              "      <th>rsid280</th>\n",
              "      <th>rsid281</th>\n",
              "      <th>rsid282</th>\n",
              "      <th>rsid283</th>\n",
              "      <th>rsid284</th>\n",
              "      <th>rsid285</th>\n",
              "      <th>rsid286</th>\n",
              "      <th>rsid287</th>\n",
              "      <th>rsid288</th>\n",
              "      <th>rsid289</th>\n",
              "      <th>rsid290</th>\n",
              "      <th>rsid291</th>\n",
              "      <th>rsid292</th>\n",
              "      <th>rsid293</th>\n",
              "      <th>rsid294</th>\n",
              "      <th>rsid295</th>\n",
              "      <th>rsid296</th>\n",
              "      <th>rsid297</th>\n",
              "      <th>rsid298</th>\n",
              "      <th>rsid299</th>\n",
              "      <th>rsid300</th>\n",
              "      <th>rsid301</th>\n",
              "      <th>rsid302</th>\n",
              "      <th>rsid303</th>\n",
              "      <th>rsid304</th>\n",
              "      <th>rsid305</th>\n",
              "      <th>rsid306</th>\n",
              "      <th>rsid307</th>\n",
              "      <th>rsid308</th>\n",
              "      <th>rsid309</th>\n",
              "      <th>rsid310</th>\n",
              "      <th>rsid311</th>\n",
              "      <th>rsid312</th>\n",
              "      <th>x</th>\n",
              "      <th>y</th>\n",
              "      <th>path-timestamp</th>\n",
              "    </tr>\n",
              "  </thead>\n",
              "  <tbody>\n",
              "    <tr>\n",
              "      <th>0</th>\n",
              "      <td>-93</td>\n",
              "      <td>-999</td>\n",
              "      <td>-81</td>\n",
              "      <td>-999</td>\n",
              "      <td>-999</td>\n",
              "      <td>-999</td>\n",
              "      <td>-999</td>\n",
              "      <td>-999</td>\n",
              "      <td>-999</td>\n",
              "      <td>-999</td>\n",
              "      <td>-999</td>\n",
              "      <td>-85</td>\n",
              "      <td>-999</td>\n",
              "      <td>-999</td>\n",
              "      <td>-999</td>\n",
              "      <td>-999</td>\n",
              "      <td>-999</td>\n",
              "      <td>-999</td>\n",
              "      <td>-999</td>\n",
              "      <td>-999</td>\n",
              "      <td>-999</td>\n",
              "      <td>-999</td>\n",
              "      <td>-999</td>\n",
              "      <td>-999</td>\n",
              "      <td>-999</td>\n",
              "      <td>-999</td>\n",
              "      <td>-999</td>\n",
              "      <td>-999</td>\n",
              "      <td>-48</td>\n",
              "      <td>-48</td>\n",
              "      <td>-49</td>\n",
              "      <td>-44</td>\n",
              "      <td>-43</td>\n",
              "      <td>-43</td>\n",
              "      <td>-999</td>\n",
              "      <td>-999</td>\n",
              "      <td>-999</td>\n",
              "      <td>-999</td>\n",
              "      <td>-999</td>\n",
              "      <td>-999</td>\n",
              "      <td>...</td>\n",
              "      <td>-80</td>\n",
              "      <td>-81</td>\n",
              "      <td>-80</td>\n",
              "      <td>-999</td>\n",
              "      <td>-999</td>\n",
              "      <td>-999</td>\n",
              "      <td>-87</td>\n",
              "      <td>-999</td>\n",
              "      <td>-999</td>\n",
              "      <td>-78</td>\n",
              "      <td>-79</td>\n",
              "      <td>-78</td>\n",
              "      <td>-79</td>\n",
              "      <td>-79</td>\n",
              "      <td>-78</td>\n",
              "      <td>-999</td>\n",
              "      <td>-999</td>\n",
              "      <td>-999</td>\n",
              "      <td>-999</td>\n",
              "      <td>-999</td>\n",
              "      <td>-999</td>\n",
              "      <td>-999</td>\n",
              "      <td>-81</td>\n",
              "      <td>-82</td>\n",
              "      <td>-999</td>\n",
              "      <td>-999</td>\n",
              "      <td>-999</td>\n",
              "      <td>-999</td>\n",
              "      <td>-999</td>\n",
              "      <td>-999</td>\n",
              "      <td>-999</td>\n",
              "      <td>-999</td>\n",
              "      <td>-999</td>\n",
              "      <td>-999</td>\n",
              "      <td>-999</td>\n",
              "      <td>-999</td>\n",
              "      <td>-999</td>\n",
              "      <td>43.26</td>\n",
              "      <td>25.89</td>\n",
              "      <td>record_2021_10_11_07_41_02-1633934464983</td>\n",
              "    </tr>\n",
              "    <tr>\n",
              "      <th>1</th>\n",
              "      <td>-93</td>\n",
              "      <td>-999</td>\n",
              "      <td>-81</td>\n",
              "      <td>-999</td>\n",
              "      <td>-999</td>\n",
              "      <td>-999</td>\n",
              "      <td>-999</td>\n",
              "      <td>-999</td>\n",
              "      <td>-999</td>\n",
              "      <td>-999</td>\n",
              "      <td>-999</td>\n",
              "      <td>-85</td>\n",
              "      <td>-999</td>\n",
              "      <td>-999</td>\n",
              "      <td>-999</td>\n",
              "      <td>-999</td>\n",
              "      <td>-999</td>\n",
              "      <td>-999</td>\n",
              "      <td>-999</td>\n",
              "      <td>-999</td>\n",
              "      <td>-999</td>\n",
              "      <td>-999</td>\n",
              "      <td>-999</td>\n",
              "      <td>-999</td>\n",
              "      <td>-999</td>\n",
              "      <td>-999</td>\n",
              "      <td>-999</td>\n",
              "      <td>-999</td>\n",
              "      <td>-48</td>\n",
              "      <td>-48</td>\n",
              "      <td>-49</td>\n",
              "      <td>-44</td>\n",
              "      <td>-43</td>\n",
              "      <td>-43</td>\n",
              "      <td>-999</td>\n",
              "      <td>-999</td>\n",
              "      <td>-999</td>\n",
              "      <td>-999</td>\n",
              "      <td>-999</td>\n",
              "      <td>-999</td>\n",
              "      <td>...</td>\n",
              "      <td>-80</td>\n",
              "      <td>-81</td>\n",
              "      <td>-80</td>\n",
              "      <td>-999</td>\n",
              "      <td>-999</td>\n",
              "      <td>-999</td>\n",
              "      <td>-87</td>\n",
              "      <td>-999</td>\n",
              "      <td>-999</td>\n",
              "      <td>-78</td>\n",
              "      <td>-79</td>\n",
              "      <td>-78</td>\n",
              "      <td>-79</td>\n",
              "      <td>-79</td>\n",
              "      <td>-78</td>\n",
              "      <td>-999</td>\n",
              "      <td>-999</td>\n",
              "      <td>-999</td>\n",
              "      <td>-999</td>\n",
              "      <td>-999</td>\n",
              "      <td>-999</td>\n",
              "      <td>-999</td>\n",
              "      <td>-81</td>\n",
              "      <td>-82</td>\n",
              "      <td>-999</td>\n",
              "      <td>-999</td>\n",
              "      <td>-999</td>\n",
              "      <td>-999</td>\n",
              "      <td>-999</td>\n",
              "      <td>-999</td>\n",
              "      <td>-999</td>\n",
              "      <td>-999</td>\n",
              "      <td>-999</td>\n",
              "      <td>-999</td>\n",
              "      <td>-999</td>\n",
              "      <td>-999</td>\n",
              "      <td>-999</td>\n",
              "      <td>43.26</td>\n",
              "      <td>25.89</td>\n",
              "      <td>record_2021_10_11_07_41_02-1633934467125</td>\n",
              "    </tr>\n",
              "    <tr>\n",
              "      <th>2</th>\n",
              "      <td>-999</td>\n",
              "      <td>-999</td>\n",
              "      <td>-999</td>\n",
              "      <td>-999</td>\n",
              "      <td>-999</td>\n",
              "      <td>-999</td>\n",
              "      <td>-999</td>\n",
              "      <td>-999</td>\n",
              "      <td>-999</td>\n",
              "      <td>-999</td>\n",
              "      <td>-999</td>\n",
              "      <td>-84</td>\n",
              "      <td>-999</td>\n",
              "      <td>-999</td>\n",
              "      <td>-999</td>\n",
              "      <td>-999</td>\n",
              "      <td>-999</td>\n",
              "      <td>-999</td>\n",
              "      <td>-999</td>\n",
              "      <td>-999</td>\n",
              "      <td>-999</td>\n",
              "      <td>-999</td>\n",
              "      <td>-999</td>\n",
              "      <td>-999</td>\n",
              "      <td>-999</td>\n",
              "      <td>-999</td>\n",
              "      <td>-999</td>\n",
              "      <td>-999</td>\n",
              "      <td>-56</td>\n",
              "      <td>-999</td>\n",
              "      <td>-999</td>\n",
              "      <td>-39</td>\n",
              "      <td>-43</td>\n",
              "      <td>-42</td>\n",
              "      <td>-999</td>\n",
              "      <td>-999</td>\n",
              "      <td>-999</td>\n",
              "      <td>-999</td>\n",
              "      <td>-999</td>\n",
              "      <td>-999</td>\n",
              "      <td>...</td>\n",
              "      <td>-82</td>\n",
              "      <td>-82</td>\n",
              "      <td>-82</td>\n",
              "      <td>-84</td>\n",
              "      <td>-85</td>\n",
              "      <td>-81</td>\n",
              "      <td>-87</td>\n",
              "      <td>-999</td>\n",
              "      <td>-999</td>\n",
              "      <td>-999</td>\n",
              "      <td>-999</td>\n",
              "      <td>-85</td>\n",
              "      <td>-999</td>\n",
              "      <td>-88</td>\n",
              "      <td>-999</td>\n",
              "      <td>-999</td>\n",
              "      <td>-999</td>\n",
              "      <td>-999</td>\n",
              "      <td>-999</td>\n",
              "      <td>-999</td>\n",
              "      <td>-999</td>\n",
              "      <td>-999</td>\n",
              "      <td>-85</td>\n",
              "      <td>-86</td>\n",
              "      <td>-999</td>\n",
              "      <td>-999</td>\n",
              "      <td>-999</td>\n",
              "      <td>-999</td>\n",
              "      <td>-999</td>\n",
              "      <td>-999</td>\n",
              "      <td>-999</td>\n",
              "      <td>-999</td>\n",
              "      <td>-999</td>\n",
              "      <td>-999</td>\n",
              "      <td>-999</td>\n",
              "      <td>-999</td>\n",
              "      <td>-999</td>\n",
              "      <td>43.26</td>\n",
              "      <td>25.89</td>\n",
              "      <td>record_2021_10_11_07_41_02-1633934469251</td>\n",
              "    </tr>\n",
              "    <tr>\n",
              "      <th>3</th>\n",
              "      <td>-999</td>\n",
              "      <td>-999</td>\n",
              "      <td>-999</td>\n",
              "      <td>-999</td>\n",
              "      <td>-999</td>\n",
              "      <td>-999</td>\n",
              "      <td>-999</td>\n",
              "      <td>-999</td>\n",
              "      <td>-999</td>\n",
              "      <td>-999</td>\n",
              "      <td>-999</td>\n",
              "      <td>-84</td>\n",
              "      <td>-999</td>\n",
              "      <td>-999</td>\n",
              "      <td>-999</td>\n",
              "      <td>-999</td>\n",
              "      <td>-999</td>\n",
              "      <td>-999</td>\n",
              "      <td>-999</td>\n",
              "      <td>-999</td>\n",
              "      <td>-999</td>\n",
              "      <td>-999</td>\n",
              "      <td>-999</td>\n",
              "      <td>-999</td>\n",
              "      <td>-999</td>\n",
              "      <td>-999</td>\n",
              "      <td>-999</td>\n",
              "      <td>-999</td>\n",
              "      <td>-56</td>\n",
              "      <td>-999</td>\n",
              "      <td>-999</td>\n",
              "      <td>-39</td>\n",
              "      <td>-43</td>\n",
              "      <td>-42</td>\n",
              "      <td>-999</td>\n",
              "      <td>-999</td>\n",
              "      <td>-999</td>\n",
              "      <td>-999</td>\n",
              "      <td>-999</td>\n",
              "      <td>-999</td>\n",
              "      <td>...</td>\n",
              "      <td>-82</td>\n",
              "      <td>-82</td>\n",
              "      <td>-82</td>\n",
              "      <td>-84</td>\n",
              "      <td>-85</td>\n",
              "      <td>-81</td>\n",
              "      <td>-87</td>\n",
              "      <td>-999</td>\n",
              "      <td>-999</td>\n",
              "      <td>-999</td>\n",
              "      <td>-999</td>\n",
              "      <td>-85</td>\n",
              "      <td>-999</td>\n",
              "      <td>-88</td>\n",
              "      <td>-999</td>\n",
              "      <td>-999</td>\n",
              "      <td>-999</td>\n",
              "      <td>-999</td>\n",
              "      <td>-999</td>\n",
              "      <td>-999</td>\n",
              "      <td>-999</td>\n",
              "      <td>-999</td>\n",
              "      <td>-85</td>\n",
              "      <td>-86</td>\n",
              "      <td>-999</td>\n",
              "      <td>-999</td>\n",
              "      <td>-999</td>\n",
              "      <td>-999</td>\n",
              "      <td>-999</td>\n",
              "      <td>-999</td>\n",
              "      <td>-999</td>\n",
              "      <td>-999</td>\n",
              "      <td>-999</td>\n",
              "      <td>-999</td>\n",
              "      <td>-999</td>\n",
              "      <td>-999</td>\n",
              "      <td>-999</td>\n",
              "      <td>43.26</td>\n",
              "      <td>25.89</td>\n",
              "      <td>record_2021_10_11_07_41_02-1633934471370</td>\n",
              "    </tr>\n",
              "    <tr>\n",
              "      <th>4</th>\n",
              "      <td>-78</td>\n",
              "      <td>-999</td>\n",
              "      <td>-999</td>\n",
              "      <td>-95</td>\n",
              "      <td>-999</td>\n",
              "      <td>-999</td>\n",
              "      <td>-999</td>\n",
              "      <td>-999</td>\n",
              "      <td>-999</td>\n",
              "      <td>-999</td>\n",
              "      <td>-999</td>\n",
              "      <td>-999</td>\n",
              "      <td>-999</td>\n",
              "      <td>-999</td>\n",
              "      <td>-999</td>\n",
              "      <td>-999</td>\n",
              "      <td>-999</td>\n",
              "      <td>-999</td>\n",
              "      <td>-999</td>\n",
              "      <td>-999</td>\n",
              "      <td>-999</td>\n",
              "      <td>-999</td>\n",
              "      <td>-999</td>\n",
              "      <td>-999</td>\n",
              "      <td>-999</td>\n",
              "      <td>-999</td>\n",
              "      <td>-999</td>\n",
              "      <td>-999</td>\n",
              "      <td>-50</td>\n",
              "      <td>-51</td>\n",
              "      <td>-51</td>\n",
              "      <td>-43</td>\n",
              "      <td>-49</td>\n",
              "      <td>-47</td>\n",
              "      <td>-999</td>\n",
              "      <td>-999</td>\n",
              "      <td>-999</td>\n",
              "      <td>-999</td>\n",
              "      <td>-999</td>\n",
              "      <td>-999</td>\n",
              "      <td>...</td>\n",
              "      <td>-999</td>\n",
              "      <td>-999</td>\n",
              "      <td>-999</td>\n",
              "      <td>-999</td>\n",
              "      <td>-999</td>\n",
              "      <td>-999</td>\n",
              "      <td>-999</td>\n",
              "      <td>-999</td>\n",
              "      <td>-999</td>\n",
              "      <td>-999</td>\n",
              "      <td>-999</td>\n",
              "      <td>-999</td>\n",
              "      <td>-87</td>\n",
              "      <td>-87</td>\n",
              "      <td>-999</td>\n",
              "      <td>-999</td>\n",
              "      <td>-999</td>\n",
              "      <td>-999</td>\n",
              "      <td>-999</td>\n",
              "      <td>-999</td>\n",
              "      <td>-999</td>\n",
              "      <td>-999</td>\n",
              "      <td>-999</td>\n",
              "      <td>-999</td>\n",
              "      <td>-999</td>\n",
              "      <td>-999</td>\n",
              "      <td>-999</td>\n",
              "      <td>-999</td>\n",
              "      <td>-999</td>\n",
              "      <td>-999</td>\n",
              "      <td>-999</td>\n",
              "      <td>-999</td>\n",
              "      <td>-999</td>\n",
              "      <td>-999</td>\n",
              "      <td>-999</td>\n",
              "      <td>-999</td>\n",
              "      <td>-999</td>\n",
              "      <td>40.85</td>\n",
              "      <td>25.74</td>\n",
              "      <td>record_2021_10_11_07_41_02-1633934473508</td>\n",
              "    </tr>\n",
              "  </tbody>\n",
              "</table>\n",
              "<p>5 rows × 315 columns</p>\n",
              "</div>"
            ],
            "text/plain": [
              "   rsid1  rsid2  rsid3  ...      x      y                            path-timestamp\n",
              "0    -93   -999    -81  ...  43.26  25.89  record_2021_10_11_07_41_02-1633934464983\n",
              "1    -93   -999    -81  ...  43.26  25.89  record_2021_10_11_07_41_02-1633934467125\n",
              "2   -999   -999   -999  ...  43.26  25.89  record_2021_10_11_07_41_02-1633934469251\n",
              "3   -999   -999   -999  ...  43.26  25.89  record_2021_10_11_07_41_02-1633934471370\n",
              "4    -78   -999   -999  ...  40.85  25.74  record_2021_10_11_07_41_02-1633934473508\n",
              "\n",
              "[5 rows x 315 columns]"
            ]
          },
          "metadata": {},
          "execution_count": 12
        }
      ]
    },
    {
      "cell_type": "code",
      "source": [
        "print('split path-timestamp in 2 columns')\n",
        "data[['path','timestamp']]=data['path-timestamp'].str.split('-',expand=True)\n",
        "print('remove path-timestamp column')\n",
        "data.drop('path-timestamp', axis=1,inplace=True)"
      ],
      "metadata": {
        "colab": {
          "base_uri": "https://localhost:8080/"
        },
        "id": "m72SRVPn53hW",
        "outputId": "65f68cd8-4cac-44a9-ed43-eef3499658b7"
      },
      "execution_count": null,
      "outputs": [
        {
          "output_type": "stream",
          "name": "stdout",
          "text": [
            "split path-timestamp in 2 columns\n",
            "remove path-timestamp column\n"
          ]
        }
      ]
    },
    {
      "cell_type": "code",
      "source": [
        "data.head()"
      ],
      "metadata": {
        "colab": {
          "base_uri": "https://localhost:8080/",
          "height": 256
        },
        "id": "AsPIYX8Q6kL6",
        "outputId": "7b5afd35-e4a5-4f6a-d3c1-3a70ab46109c"
      },
      "execution_count": null,
      "outputs": [
        {
          "output_type": "execute_result",
          "data": {
            "text/html": [
              "<div>\n",
              "<style scoped>\n",
              "    .dataframe tbody tr th:only-of-type {\n",
              "        vertical-align: middle;\n",
              "    }\n",
              "\n",
              "    .dataframe tbody tr th {\n",
              "        vertical-align: top;\n",
              "    }\n",
              "\n",
              "    .dataframe thead th {\n",
              "        text-align: right;\n",
              "    }\n",
              "</style>\n",
              "<table border=\"1\" class=\"dataframe\">\n",
              "  <thead>\n",
              "    <tr style=\"text-align: right;\">\n",
              "      <th></th>\n",
              "      <th>rsid1</th>\n",
              "      <th>rsid2</th>\n",
              "      <th>rsid3</th>\n",
              "      <th>rsid4</th>\n",
              "      <th>rsid5</th>\n",
              "      <th>rsid6</th>\n",
              "      <th>rsid7</th>\n",
              "      <th>rsid8</th>\n",
              "      <th>rsid9</th>\n",
              "      <th>rsid10</th>\n",
              "      <th>rsid11</th>\n",
              "      <th>rsid12</th>\n",
              "      <th>rsid13</th>\n",
              "      <th>rsid14</th>\n",
              "      <th>rsid15</th>\n",
              "      <th>rsid16</th>\n",
              "      <th>rsid17</th>\n",
              "      <th>rsid18</th>\n",
              "      <th>rsid19</th>\n",
              "      <th>rsid20</th>\n",
              "      <th>rsid21</th>\n",
              "      <th>rsid22</th>\n",
              "      <th>rsid23</th>\n",
              "      <th>rsid24</th>\n",
              "      <th>rsid25</th>\n",
              "      <th>rsid26</th>\n",
              "      <th>rsid27</th>\n",
              "      <th>rsid28</th>\n",
              "      <th>rsid29</th>\n",
              "      <th>rsid30</th>\n",
              "      <th>rsid31</th>\n",
              "      <th>rsid32</th>\n",
              "      <th>rsid33</th>\n",
              "      <th>rsid34</th>\n",
              "      <th>rsid35</th>\n",
              "      <th>rsid36</th>\n",
              "      <th>rsid37</th>\n",
              "      <th>rsid38</th>\n",
              "      <th>rsid39</th>\n",
              "      <th>rsid40</th>\n",
              "      <th>...</th>\n",
              "      <th>rsid277</th>\n",
              "      <th>rsid278</th>\n",
              "      <th>rsid279</th>\n",
              "      <th>rsid280</th>\n",
              "      <th>rsid281</th>\n",
              "      <th>rsid282</th>\n",
              "      <th>rsid283</th>\n",
              "      <th>rsid284</th>\n",
              "      <th>rsid285</th>\n",
              "      <th>rsid286</th>\n",
              "      <th>rsid287</th>\n",
              "      <th>rsid288</th>\n",
              "      <th>rsid289</th>\n",
              "      <th>rsid290</th>\n",
              "      <th>rsid291</th>\n",
              "      <th>rsid292</th>\n",
              "      <th>rsid293</th>\n",
              "      <th>rsid294</th>\n",
              "      <th>rsid295</th>\n",
              "      <th>rsid296</th>\n",
              "      <th>rsid297</th>\n",
              "      <th>rsid298</th>\n",
              "      <th>rsid299</th>\n",
              "      <th>rsid300</th>\n",
              "      <th>rsid301</th>\n",
              "      <th>rsid302</th>\n",
              "      <th>rsid303</th>\n",
              "      <th>rsid304</th>\n",
              "      <th>rsid305</th>\n",
              "      <th>rsid306</th>\n",
              "      <th>rsid307</th>\n",
              "      <th>rsid308</th>\n",
              "      <th>rsid309</th>\n",
              "      <th>rsid310</th>\n",
              "      <th>rsid311</th>\n",
              "      <th>rsid312</th>\n",
              "      <th>x</th>\n",
              "      <th>y</th>\n",
              "      <th>path</th>\n",
              "      <th>timestamp</th>\n",
              "    </tr>\n",
              "  </thead>\n",
              "  <tbody>\n",
              "    <tr>\n",
              "      <th>0</th>\n",
              "      <td>-93</td>\n",
              "      <td>-999</td>\n",
              "      <td>-81</td>\n",
              "      <td>-999</td>\n",
              "      <td>-999</td>\n",
              "      <td>-999</td>\n",
              "      <td>-999</td>\n",
              "      <td>-999</td>\n",
              "      <td>-999</td>\n",
              "      <td>-999</td>\n",
              "      <td>-999</td>\n",
              "      <td>-85</td>\n",
              "      <td>-999</td>\n",
              "      <td>-999</td>\n",
              "      <td>-999</td>\n",
              "      <td>-999</td>\n",
              "      <td>-999</td>\n",
              "      <td>-999</td>\n",
              "      <td>-999</td>\n",
              "      <td>-999</td>\n",
              "      <td>-999</td>\n",
              "      <td>-999</td>\n",
              "      <td>-999</td>\n",
              "      <td>-999</td>\n",
              "      <td>-999</td>\n",
              "      <td>-999</td>\n",
              "      <td>-999</td>\n",
              "      <td>-999</td>\n",
              "      <td>-48</td>\n",
              "      <td>-48</td>\n",
              "      <td>-49</td>\n",
              "      <td>-44</td>\n",
              "      <td>-43</td>\n",
              "      <td>-43</td>\n",
              "      <td>-999</td>\n",
              "      <td>-999</td>\n",
              "      <td>-999</td>\n",
              "      <td>-999</td>\n",
              "      <td>-999</td>\n",
              "      <td>-999</td>\n",
              "      <td>...</td>\n",
              "      <td>-81</td>\n",
              "      <td>-80</td>\n",
              "      <td>-999</td>\n",
              "      <td>-999</td>\n",
              "      <td>-999</td>\n",
              "      <td>-87</td>\n",
              "      <td>-999</td>\n",
              "      <td>-999</td>\n",
              "      <td>-78</td>\n",
              "      <td>-79</td>\n",
              "      <td>-78</td>\n",
              "      <td>-79</td>\n",
              "      <td>-79</td>\n",
              "      <td>-78</td>\n",
              "      <td>-999</td>\n",
              "      <td>-999</td>\n",
              "      <td>-999</td>\n",
              "      <td>-999</td>\n",
              "      <td>-999</td>\n",
              "      <td>-999</td>\n",
              "      <td>-999</td>\n",
              "      <td>-81</td>\n",
              "      <td>-82</td>\n",
              "      <td>-999</td>\n",
              "      <td>-999</td>\n",
              "      <td>-999</td>\n",
              "      <td>-999</td>\n",
              "      <td>-999</td>\n",
              "      <td>-999</td>\n",
              "      <td>-999</td>\n",
              "      <td>-999</td>\n",
              "      <td>-999</td>\n",
              "      <td>-999</td>\n",
              "      <td>-999</td>\n",
              "      <td>-999</td>\n",
              "      <td>-999</td>\n",
              "      <td>43.26</td>\n",
              "      <td>25.89</td>\n",
              "      <td>record_2021_10_11_07_41_02</td>\n",
              "      <td>1633934464983</td>\n",
              "    </tr>\n",
              "    <tr>\n",
              "      <th>1</th>\n",
              "      <td>-93</td>\n",
              "      <td>-999</td>\n",
              "      <td>-81</td>\n",
              "      <td>-999</td>\n",
              "      <td>-999</td>\n",
              "      <td>-999</td>\n",
              "      <td>-999</td>\n",
              "      <td>-999</td>\n",
              "      <td>-999</td>\n",
              "      <td>-999</td>\n",
              "      <td>-999</td>\n",
              "      <td>-85</td>\n",
              "      <td>-999</td>\n",
              "      <td>-999</td>\n",
              "      <td>-999</td>\n",
              "      <td>-999</td>\n",
              "      <td>-999</td>\n",
              "      <td>-999</td>\n",
              "      <td>-999</td>\n",
              "      <td>-999</td>\n",
              "      <td>-999</td>\n",
              "      <td>-999</td>\n",
              "      <td>-999</td>\n",
              "      <td>-999</td>\n",
              "      <td>-999</td>\n",
              "      <td>-999</td>\n",
              "      <td>-999</td>\n",
              "      <td>-999</td>\n",
              "      <td>-48</td>\n",
              "      <td>-48</td>\n",
              "      <td>-49</td>\n",
              "      <td>-44</td>\n",
              "      <td>-43</td>\n",
              "      <td>-43</td>\n",
              "      <td>-999</td>\n",
              "      <td>-999</td>\n",
              "      <td>-999</td>\n",
              "      <td>-999</td>\n",
              "      <td>-999</td>\n",
              "      <td>-999</td>\n",
              "      <td>...</td>\n",
              "      <td>-81</td>\n",
              "      <td>-80</td>\n",
              "      <td>-999</td>\n",
              "      <td>-999</td>\n",
              "      <td>-999</td>\n",
              "      <td>-87</td>\n",
              "      <td>-999</td>\n",
              "      <td>-999</td>\n",
              "      <td>-78</td>\n",
              "      <td>-79</td>\n",
              "      <td>-78</td>\n",
              "      <td>-79</td>\n",
              "      <td>-79</td>\n",
              "      <td>-78</td>\n",
              "      <td>-999</td>\n",
              "      <td>-999</td>\n",
              "      <td>-999</td>\n",
              "      <td>-999</td>\n",
              "      <td>-999</td>\n",
              "      <td>-999</td>\n",
              "      <td>-999</td>\n",
              "      <td>-81</td>\n",
              "      <td>-82</td>\n",
              "      <td>-999</td>\n",
              "      <td>-999</td>\n",
              "      <td>-999</td>\n",
              "      <td>-999</td>\n",
              "      <td>-999</td>\n",
              "      <td>-999</td>\n",
              "      <td>-999</td>\n",
              "      <td>-999</td>\n",
              "      <td>-999</td>\n",
              "      <td>-999</td>\n",
              "      <td>-999</td>\n",
              "      <td>-999</td>\n",
              "      <td>-999</td>\n",
              "      <td>43.26</td>\n",
              "      <td>25.89</td>\n",
              "      <td>record_2021_10_11_07_41_02</td>\n",
              "      <td>1633934467125</td>\n",
              "    </tr>\n",
              "    <tr>\n",
              "      <th>2</th>\n",
              "      <td>-999</td>\n",
              "      <td>-999</td>\n",
              "      <td>-999</td>\n",
              "      <td>-999</td>\n",
              "      <td>-999</td>\n",
              "      <td>-999</td>\n",
              "      <td>-999</td>\n",
              "      <td>-999</td>\n",
              "      <td>-999</td>\n",
              "      <td>-999</td>\n",
              "      <td>-999</td>\n",
              "      <td>-84</td>\n",
              "      <td>-999</td>\n",
              "      <td>-999</td>\n",
              "      <td>-999</td>\n",
              "      <td>-999</td>\n",
              "      <td>-999</td>\n",
              "      <td>-999</td>\n",
              "      <td>-999</td>\n",
              "      <td>-999</td>\n",
              "      <td>-999</td>\n",
              "      <td>-999</td>\n",
              "      <td>-999</td>\n",
              "      <td>-999</td>\n",
              "      <td>-999</td>\n",
              "      <td>-999</td>\n",
              "      <td>-999</td>\n",
              "      <td>-999</td>\n",
              "      <td>-56</td>\n",
              "      <td>-999</td>\n",
              "      <td>-999</td>\n",
              "      <td>-39</td>\n",
              "      <td>-43</td>\n",
              "      <td>-42</td>\n",
              "      <td>-999</td>\n",
              "      <td>-999</td>\n",
              "      <td>-999</td>\n",
              "      <td>-999</td>\n",
              "      <td>-999</td>\n",
              "      <td>-999</td>\n",
              "      <td>...</td>\n",
              "      <td>-82</td>\n",
              "      <td>-82</td>\n",
              "      <td>-84</td>\n",
              "      <td>-85</td>\n",
              "      <td>-81</td>\n",
              "      <td>-87</td>\n",
              "      <td>-999</td>\n",
              "      <td>-999</td>\n",
              "      <td>-999</td>\n",
              "      <td>-999</td>\n",
              "      <td>-85</td>\n",
              "      <td>-999</td>\n",
              "      <td>-88</td>\n",
              "      <td>-999</td>\n",
              "      <td>-999</td>\n",
              "      <td>-999</td>\n",
              "      <td>-999</td>\n",
              "      <td>-999</td>\n",
              "      <td>-999</td>\n",
              "      <td>-999</td>\n",
              "      <td>-999</td>\n",
              "      <td>-85</td>\n",
              "      <td>-86</td>\n",
              "      <td>-999</td>\n",
              "      <td>-999</td>\n",
              "      <td>-999</td>\n",
              "      <td>-999</td>\n",
              "      <td>-999</td>\n",
              "      <td>-999</td>\n",
              "      <td>-999</td>\n",
              "      <td>-999</td>\n",
              "      <td>-999</td>\n",
              "      <td>-999</td>\n",
              "      <td>-999</td>\n",
              "      <td>-999</td>\n",
              "      <td>-999</td>\n",
              "      <td>43.26</td>\n",
              "      <td>25.89</td>\n",
              "      <td>record_2021_10_11_07_41_02</td>\n",
              "      <td>1633934469251</td>\n",
              "    </tr>\n",
              "    <tr>\n",
              "      <th>3</th>\n",
              "      <td>-999</td>\n",
              "      <td>-999</td>\n",
              "      <td>-999</td>\n",
              "      <td>-999</td>\n",
              "      <td>-999</td>\n",
              "      <td>-999</td>\n",
              "      <td>-999</td>\n",
              "      <td>-999</td>\n",
              "      <td>-999</td>\n",
              "      <td>-999</td>\n",
              "      <td>-999</td>\n",
              "      <td>-84</td>\n",
              "      <td>-999</td>\n",
              "      <td>-999</td>\n",
              "      <td>-999</td>\n",
              "      <td>-999</td>\n",
              "      <td>-999</td>\n",
              "      <td>-999</td>\n",
              "      <td>-999</td>\n",
              "      <td>-999</td>\n",
              "      <td>-999</td>\n",
              "      <td>-999</td>\n",
              "      <td>-999</td>\n",
              "      <td>-999</td>\n",
              "      <td>-999</td>\n",
              "      <td>-999</td>\n",
              "      <td>-999</td>\n",
              "      <td>-999</td>\n",
              "      <td>-56</td>\n",
              "      <td>-999</td>\n",
              "      <td>-999</td>\n",
              "      <td>-39</td>\n",
              "      <td>-43</td>\n",
              "      <td>-42</td>\n",
              "      <td>-999</td>\n",
              "      <td>-999</td>\n",
              "      <td>-999</td>\n",
              "      <td>-999</td>\n",
              "      <td>-999</td>\n",
              "      <td>-999</td>\n",
              "      <td>...</td>\n",
              "      <td>-82</td>\n",
              "      <td>-82</td>\n",
              "      <td>-84</td>\n",
              "      <td>-85</td>\n",
              "      <td>-81</td>\n",
              "      <td>-87</td>\n",
              "      <td>-999</td>\n",
              "      <td>-999</td>\n",
              "      <td>-999</td>\n",
              "      <td>-999</td>\n",
              "      <td>-85</td>\n",
              "      <td>-999</td>\n",
              "      <td>-88</td>\n",
              "      <td>-999</td>\n",
              "      <td>-999</td>\n",
              "      <td>-999</td>\n",
              "      <td>-999</td>\n",
              "      <td>-999</td>\n",
              "      <td>-999</td>\n",
              "      <td>-999</td>\n",
              "      <td>-999</td>\n",
              "      <td>-85</td>\n",
              "      <td>-86</td>\n",
              "      <td>-999</td>\n",
              "      <td>-999</td>\n",
              "      <td>-999</td>\n",
              "      <td>-999</td>\n",
              "      <td>-999</td>\n",
              "      <td>-999</td>\n",
              "      <td>-999</td>\n",
              "      <td>-999</td>\n",
              "      <td>-999</td>\n",
              "      <td>-999</td>\n",
              "      <td>-999</td>\n",
              "      <td>-999</td>\n",
              "      <td>-999</td>\n",
              "      <td>43.26</td>\n",
              "      <td>25.89</td>\n",
              "      <td>record_2021_10_11_07_41_02</td>\n",
              "      <td>1633934471370</td>\n",
              "    </tr>\n",
              "    <tr>\n",
              "      <th>4</th>\n",
              "      <td>-78</td>\n",
              "      <td>-999</td>\n",
              "      <td>-999</td>\n",
              "      <td>-95</td>\n",
              "      <td>-999</td>\n",
              "      <td>-999</td>\n",
              "      <td>-999</td>\n",
              "      <td>-999</td>\n",
              "      <td>-999</td>\n",
              "      <td>-999</td>\n",
              "      <td>-999</td>\n",
              "      <td>-999</td>\n",
              "      <td>-999</td>\n",
              "      <td>-999</td>\n",
              "      <td>-999</td>\n",
              "      <td>-999</td>\n",
              "      <td>-999</td>\n",
              "      <td>-999</td>\n",
              "      <td>-999</td>\n",
              "      <td>-999</td>\n",
              "      <td>-999</td>\n",
              "      <td>-999</td>\n",
              "      <td>-999</td>\n",
              "      <td>-999</td>\n",
              "      <td>-999</td>\n",
              "      <td>-999</td>\n",
              "      <td>-999</td>\n",
              "      <td>-999</td>\n",
              "      <td>-50</td>\n",
              "      <td>-51</td>\n",
              "      <td>-51</td>\n",
              "      <td>-43</td>\n",
              "      <td>-49</td>\n",
              "      <td>-47</td>\n",
              "      <td>-999</td>\n",
              "      <td>-999</td>\n",
              "      <td>-999</td>\n",
              "      <td>-999</td>\n",
              "      <td>-999</td>\n",
              "      <td>-999</td>\n",
              "      <td>...</td>\n",
              "      <td>-999</td>\n",
              "      <td>-999</td>\n",
              "      <td>-999</td>\n",
              "      <td>-999</td>\n",
              "      <td>-999</td>\n",
              "      <td>-999</td>\n",
              "      <td>-999</td>\n",
              "      <td>-999</td>\n",
              "      <td>-999</td>\n",
              "      <td>-999</td>\n",
              "      <td>-999</td>\n",
              "      <td>-87</td>\n",
              "      <td>-87</td>\n",
              "      <td>-999</td>\n",
              "      <td>-999</td>\n",
              "      <td>-999</td>\n",
              "      <td>-999</td>\n",
              "      <td>-999</td>\n",
              "      <td>-999</td>\n",
              "      <td>-999</td>\n",
              "      <td>-999</td>\n",
              "      <td>-999</td>\n",
              "      <td>-999</td>\n",
              "      <td>-999</td>\n",
              "      <td>-999</td>\n",
              "      <td>-999</td>\n",
              "      <td>-999</td>\n",
              "      <td>-999</td>\n",
              "      <td>-999</td>\n",
              "      <td>-999</td>\n",
              "      <td>-999</td>\n",
              "      <td>-999</td>\n",
              "      <td>-999</td>\n",
              "      <td>-999</td>\n",
              "      <td>-999</td>\n",
              "      <td>-999</td>\n",
              "      <td>40.85</td>\n",
              "      <td>25.74</td>\n",
              "      <td>record_2021_10_11_07_41_02</td>\n",
              "      <td>1633934473508</td>\n",
              "    </tr>\n",
              "  </tbody>\n",
              "</table>\n",
              "<p>5 rows × 316 columns</p>\n",
              "</div>"
            ],
            "text/plain": [
              "   rsid1  rsid2  rsid3  ...      y                        path      timestamp\n",
              "0    -93   -999    -81  ...  25.89  record_2021_10_11_07_41_02  1633934464983\n",
              "1    -93   -999    -81  ...  25.89  record_2021_10_11_07_41_02  1633934467125\n",
              "2   -999   -999   -999  ...  25.89  record_2021_10_11_07_41_02  1633934469251\n",
              "3   -999   -999   -999  ...  25.89  record_2021_10_11_07_41_02  1633934471370\n",
              "4    -78   -999   -999  ...  25.74  record_2021_10_11_07_41_02  1633934473508\n",
              "\n",
              "[5 rows x 316 columns]"
            ]
          },
          "metadata": {},
          "execution_count": 20
        }
      ]
    },
    {
      "cell_type": "code",
      "metadata": {
        "id": "ppn3_zNKusA-",
        "colab": {
          "base_uri": "https://localhost:8080/"
        },
        "outputId": "c7d9f563-7a94-4351-e0d8-df200afb7fa8"
      },
      "source": [
        "TRAIN_FEATS=[x for x in data.columns if x not in ['x', 'y', 'path', 'timestamp']]\n",
        "len(TRAIN_FEATS)"
      ],
      "execution_count": null,
      "outputs": [
        {
          "output_type": "execute_result",
          "data": {
            "text/plain": [
              "312"
            ]
          },
          "metadata": {},
          "execution_count": 21
        }
      ]
    },
    {
      "cell_type": "code",
      "metadata": {
        "id": "t41xTYFGusBN"
      },
      "source": [
        ""
      ],
      "execution_count": null,
      "outputs": []
    },
    {
      "cell_type": "code",
      "metadata": {
        "id": "yzlrkKvsusBN"
      },
      "source": [
        "unpaths=data.path.unique()"
      ],
      "execution_count": null,
      "outputs": []
    },
    {
      "cell_type": "code",
      "metadata": {
        "colab": {
          "base_uri": "https://localhost:8080/"
        },
        "id": "3sTLUY6FusBO",
        "outputId": "f3536b1a-8366-4fd1-bc1d-555a6e2ef946"
      },
      "source": [
        "print('we have ',len(unpaths),' unique paths')"
      ],
      "execution_count": null,
      "outputs": [
        {
          "output_type": "stream",
          "name": "stdout",
          "text": [
            "we have  254  unique paths\n"
          ]
        }
      ]
    },
    {
      "cell_type": "markdown",
      "metadata": {
        "id": "KMLqTZ7b2lQE"
      },
      "source": [
        "### CV TRAIN"
      ]
    },
    {
      "cell_type": "code",
      "metadata": {
        "colab": {
          "base_uri": "https://localhost:8080/"
        },
        "id": "yzednKT8Bu1g",
        "outputId": "b5078435-8806-4b99-bd93-7cbc356ecebf"
      },
      "source": [
        "# CROSS VALIDATION\n",
        "\n",
        "name='KNeighbors'+version\n",
        "\n",
        "\n",
        "score_df = pd.DataFrame()\n",
        "oof = list()\n",
        "predictions = list()\n",
        "\n",
        "oof_x, oof_y = np.zeros(data.shape[0]), np.zeros(data.shape[0])\n",
        "preds_x, preds_y = 0, 0\n",
        "\n",
        "scores_per_fold=[]\n",
        "\n",
        "all_preds=[]\n",
        "all_targets=[]\n",
        "\n",
        "np.random.seed(42)\n",
        "sh=np.random.permutation(unpaths)\n",
        "\n",
        "\n",
        "\n",
        "k=5\n",
        "val_size=int(len(sh)/k)\n",
        "for f in range(k):\n",
        "    print('fold:', f)\n",
        "\n",
        "    if f<(k-1):\n",
        "        val_paths=sh[val_size*f:val_size*(f+1)]\n",
        "    else:\n",
        "        val_paths=sh[val_size*f:]\n",
        "\n",
        "    train_paths=[x for x in unpaths if x not in val_paths]\n",
        "    \n",
        "    val_paths=np.array(val_paths)\n",
        "    train_paths=np.array(train_paths)\n",
        "    \n",
        "    X_train = data.loc[data.path.isin(train_paths), TRAIN_FEATS ].reset_index(drop=True)\n",
        "\n",
        "    y_trainXY =  data.loc[data.path.isin(train_paths), ['x', 'y'] ].reset_index(drop=True).values\n",
        "\n",
        "    X_val = data.loc[data.path.isin(val_paths), TRAIN_FEATS ].reset_index(drop=True)\n",
        "    y_valXY = data.loc[data.path.isin(val_paths), ['x', 'y'] ].reset_index(drop=True).values\n",
        "\n",
        "\n",
        "    knn = neighbors.KNeighborsRegressor(45, weights='distance')\n",
        "    val_predsXY = knn.fit(X_train, y_trainXY).predict(X_val)\n",
        "\n",
        "    print(euclidean_distance(val_predsXY[:,0], val_predsXY[:,1], y_valXY[:,0], y_valXY[:,1]))\n",
        "\n",
        "    all_preds.append(val_predsXY)\n",
        "    all_targets.append(y_valXY)\n",
        "        \n",
        "\n",
        "all_predsV=np.vstack(all_preds)\n",
        "all_targetsV=np.vstack(all_targets)    "
      ],
      "execution_count": null,
      "outputs": [
        {
          "output_type": "stream",
          "name": "stdout",
          "text": [
            "fold: 0\n",
            "2.3303721391195835\n",
            "fold: 1\n",
            "2.771053493040381\n",
            "fold: 2\n",
            "2.374845345936929\n",
            "fold: 3\n",
            "2.5000687932214047\n",
            "fold: 4\n",
            "2.5288036403495577\n"
          ]
        }
      ]
    },
    {
      "cell_type": "code",
      "source": [
        ""
      ],
      "metadata": {
        "id": "NJUm4X6ClzeJ"
      },
      "execution_count": null,
      "outputs": []
    },
    {
      "cell_type": "code",
      "source": [
        "print('mean validation error, 5-fold', euclidean_distance(all_targetsV[:,0], all_targetsV[:,1], all_predsV[:,0], all_predsV[:,1]))"
      ],
      "metadata": {
        "colab": {
          "base_uri": "https://localhost:8080/"
        },
        "id": "XUrgizldlyLz",
        "outputId": "bd2f8f8c-746f-447f-e995-44dda9f43501"
      },
      "execution_count": null,
      "outputs": [
        {
          "output_type": "stream",
          "name": "stdout",
          "text": [
            "mean validation error, 5-fold 2.4886947420638323\n"
          ]
        }
      ]
    },
    {
      "cell_type": "code",
      "source": [
        "pd.DataFrame(all_predsV,columns=['x', 'y']).to_csv('/gdrive/My Drive/Colab Notebooks/KNeighbors.csv.gz', index=False, compression='gzip')\n",
        "pd.DataFrame(all_targetsV,columns=['x', 'y']).to_csv('/gdrive/My Drive/Colab Notebooks/all_targetsV.csv.gz', index=False, compression='gzip')"
      ],
      "metadata": {
        "id": "I48UBoPMtGYA"
      },
      "execution_count": null,
      "outputs": []
    },
    {
      "cell_type": "code",
      "source": [
        ""
      ],
      "metadata": {
        "id": "-8WxXJaZqxL7"
      },
      "execution_count": null,
      "outputs": []
    },
    {
      "cell_type": "markdown",
      "metadata": {
        "id": "uXBawd642rAY"
      },
      "source": [
        "## EVALUATION - PLOTS"
      ]
    },
    {
      "cell_type": "code",
      "metadata": {
        "colab": {
          "base_uri": "https://localhost:8080/",
          "height": 268
        },
        "id": "6Al-oTyFusBa",
        "outputId": "fe3404e6-f903-4128-a140-2f32b52ff0bb"
      },
      "source": [
        "import matplotlib.pyplot as plt\n",
        "plt.plot(all_predsV[:,0],all_predsV[:,1],'.')\n",
        "plt.show()"
      ],
      "execution_count": null,
      "outputs": [
        {
          "output_type": "display_data",
          "data": {
            "image/png": "[encoded data removed]",
            "text/plain": [
              "<Figure size 432x288 with 1 Axes>"
            ]
          },
          "metadata": {
            "needs_background": "light"
          }
        }
      ]
    },
    {
      "cell_type": "code",
      "metadata": {
        "id": "_sTktWhzM8H1"
      },
      "source": [
        ""
      ],
      "execution_count": null,
      "outputs": []
    },
    {
      "cell_type": "markdown",
      "metadata": {
        "id": "6flAQr4SNGOb"
      },
      "source": [
        "**5 FOLD CV PREDICTIONS OVER TARGET GRID**  \n",
        "With blue dots are the true checkpoints  \n",
        "Orange dots for predictions"
      ]
    },
    {
      "cell_type": "code",
      "metadata": {
        "colab": {
          "base_uri": "https://localhost:8080/",
          "height": 609
        },
        "id": "MsuPAXl9usBd",
        "outputId": "ff5a53b7-4dcf-41e8-f761-1b6ef2eb68ff"
      },
      "source": [
        "plt.figure(figsize=(10,10))\n",
        "plt.plot(all_targetsV[:,0],all_targetsV[:,1],'.')\n",
        "plt.plot(all_predsV[:,0],all_predsV[:,1],'.')\n",
        "plt.show()\n",
        "print('mean validation error, 5-fold', euclidean_distance(all_targetsV[:,0], all_targetsV[:,1], all_predsV[:,0], all_predsV[:,1]))"
      ],
      "execution_count": null,
      "outputs": [
        {
          "output_type": "display_data",
          "data": {
            "image/png": "[encoded data removed]",
            "text/plain": [
              "<Figure size 720x720 with 1 Axes>"
            ]
          },
          "metadata": {
            "needs_background": "light"
          }
        },
        {
          "output_type": "stream",
          "name": "stdout",
          "text": [
            "mean validation error, 5-fold 2.4886947420638323\n"
          ]
        }
      ]
    },
    {
      "cell_type": "code",
      "metadata": {
        "id": "E744imNYusBe"
      },
      "source": [
        ""
      ],
      "execution_count": null,
      "outputs": []
    },
    {
      "cell_type": "code",
      "metadata": {
        "id": "1Mg8LFeAusBn"
      },
      "source": [
        ""
      ],
      "execution_count": null,
      "outputs": []
    },
    {
      "cell_type": "markdown",
      "source": [
        "## Full train"
      ],
      "metadata": {
        "id": "Jf2859VMCPm8"
      }
    },
    {
      "cell_type": "code",
      "metadata": {
        "id": "23oNEGMo48ri",
        "colab": {
          "base_uri": "https://localhost:8080/"
        },
        "outputId": "30aa479f-1af9-43ef-f232-49c11b0d1907"
      },
      "source": [
        "\n",
        "\n",
        "name=version+'KNeighbors'\n",
        "\n",
        "\n",
        "\n",
        "train_paths=unpaths[:]\n",
        "\n",
        "train_paths=np.array(train_paths)\n",
        "\n",
        "X_train = data.loc[data.path.isin(train_paths), TRAIN_FEATS ].reset_index(drop=True)\n",
        "\n",
        "y_trainXY =  data.loc[data.path.isin(train_paths), ['x', 'y'] ].reset_index(drop=True).values\n",
        "knn = neighbors.KNeighborsRegressor(45, weights='distance')\n",
        "knn_model=knn.fit(X_train, y_trainXY)\n",
        "train_predsXY = knn_model.predict(X_train)\n",
        "\n",
        "print('train error',euclidean_distance(train_predsXY[:,0], train_predsXY[:,1], y_trainXY[:,0], y_trainXY[:,1]))\n"
      ],
      "execution_count": null,
      "outputs": [
        {
          "output_type": "stream",
          "name": "stdout",
          "text": [
            "train error 0.6152577839820759\n"
          ]
        }
      ]
    },
    {
      "cell_type": "code",
      "source": [
        "print('Save Knn model fully trained')\n",
        "joblib.dump(knn_model,'/gdrive/My Drive/Colab Notebooks/weights/knn_model')"
      ],
      "metadata": {
        "id": "_WbqgrG399Db",
        "colab": {
          "base_uri": "https://localhost:8080/"
        },
        "outputId": "9925d2c1-4e2f-4351-a784-bae15d317360"
      },
      "execution_count": null,
      "outputs": [
        {
          "output_type": "stream",
          "name": "stdout",
          "text": [
            "Save Knn model fully trained\n"
          ]
        },
        {
          "output_type": "execute_result",
          "data": {
            "text/plain": [
              "['/gdrive/My Drive/Colab Notebooks/weights/knn_model']"
            ]
          },
          "metadata": {},
          "execution_count": 36
        }
      ]
    },
    {
      "cell_type": "code",
      "metadata": {
        "id": "dSoT8dXe43zA"
      },
      "source": [
        ""
      ],
      "execution_count": null,
      "outputs": []
    },
    {
      "cell_type": "code",
      "metadata": {
        "id": "874YvVP3431d"
      },
      "source": [
        ""
      ],
      "execution_count": null,
      "outputs": []
    },
    {
      "cell_type": "code",
      "metadata": {
        "id": "KlT8N_6eVDBZ"
      },
      "source": [
        ""
      ],
      "execution_count": null,
      "outputs": []
    }
  ]
}