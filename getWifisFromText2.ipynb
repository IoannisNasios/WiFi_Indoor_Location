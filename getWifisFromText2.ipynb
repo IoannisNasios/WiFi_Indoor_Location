{
 "cells": [
  {
   "cell_type": "code",
   "execution_count": 1,
   "metadata": {},
   "outputs": [],
   "source": [
    "import pandas as pd\n",
    "import numpy as np\n",
    "import glob\n",
    "import os\n",
    "import gc\n",
    "import json \n",
    "import matplotlib.pyplot as plt\n",
    "\n",
    "from multiprocessing import Pool\n",
    "import multiprocessing\n",
    "\n",
    "# num_cores = multiprocessing.cpu_count()\n",
    "num_cores = 12\n",
    "num_cores\n",
    "\n",
    "from helpfuncs import *"
   ]
  },
  {
   "cell_type": "code",
   "execution_count": 2,
   "metadata": {},
   "outputs": [
    {
     "data": {
      "text/html": [
       "<div>\n",
       "<style scoped>\n",
       "    .dataframe tbody tr th:only-of-type {\n",
       "        vertical-align: middle;\n",
       "    }\n",
       "\n",
       "    .dataframe tbody tr th {\n",
       "        vertical-align: top;\n",
       "    }\n",
       "\n",
       "    .dataframe thead th {\n",
       "        text-align: right;\n",
       "    }\n",
       "</style>\n",
       "<table border=\"1\" class=\"dataframe\">\n",
       "  <thead>\n",
       "    <tr style=\"text-align: right;\">\n",
       "      <th></th>\n",
       "      <th>x</th>\n",
       "      <th>y</th>\n",
       "      <th>num</th>\n",
       "    </tr>\n",
       "  </thead>\n",
       "  <tbody>\n",
       "    <tr>\n",
       "      <th>0</th>\n",
       "      <td>80.16</td>\n",
       "      <td>37.83</td>\n",
       "      <td>1</td>\n",
       "    </tr>\n",
       "    <tr>\n",
       "      <th>1</th>\n",
       "      <td>77.98</td>\n",
       "      <td>37.83</td>\n",
       "      <td>2</td>\n",
       "    </tr>\n",
       "    <tr>\n",
       "      <th>2</th>\n",
       "      <td>74.73</td>\n",
       "      <td>37.83</td>\n",
       "      <td>3</td>\n",
       "    </tr>\n",
       "    <tr>\n",
       "      <th>3</th>\n",
       "      <td>71.94</td>\n",
       "      <td>37.83</td>\n",
       "      <td>4</td>\n",
       "    </tr>\n",
       "    <tr>\n",
       "      <th>4</th>\n",
       "      <td>69.46</td>\n",
       "      <td>38.37</td>\n",
       "      <td>5</td>\n",
       "    </tr>\n",
       "  </tbody>\n",
       "</table>\n",
       "</div>"
      ],
      "text/plain": [
       "       x      y  num\n",
       "0  80.16  37.83    1\n",
       "1  77.98  37.83    2\n",
       "2  74.73  37.83    3\n",
       "3  71.94  37.83    4\n",
       "4  69.46  38.37    5"
      ]
     },
     "execution_count": 2,
     "metadata": {},
     "output_type": "execute_result"
    }
   ],
   "source": [
    "# file to convert checkpoint to x,y \n",
    "pointsDdf=pd.read_csv('pointsDdf.csv')\n",
    "pointsDdf.head()"
   ]
  },
  {
   "cell_type": "code",
   "execution_count": null,
   "metadata": {},
   "outputs": [],
   "source": []
  },
  {
   "cell_type": "code",
   "execution_count": 3,
   "metadata": {},
   "outputs": [],
   "source": [
    "# Edit this cell appropriate if/where needed\n",
    "\n",
    "raw_data_path=\"/home/gnas/IdealCities/data_collection_throttling/\"\n",
    "\n",
    "# MIN_OCCUR is minimum number of times a wifi must be present in whole dataset to be selected for modelling\n",
    "# also mobile hotspots will be removed based on SSID name\n",
    "MIN_OCCUR = 50\n",
    "\n",
    "# MIN_CHECKPOINTS: Minumum number of checkpoint if file to include this file in dataset\n",
    "MIN_CHECKPOINTS=3\n",
    "\n"
   ]
  },
  {
   "cell_type": "code",
   "execution_count": null,
   "metadata": {},
   "outputs": [],
   "source": []
  },
  {
   "cell_type": "code",
   "execution_count": 4,
   "metadata": {},
   "outputs": [
    {
     "name": "stdout",
     "output_type": "stream",
     "text": [
      "Total number of paths: 464\n"
     ]
    }
   ],
   "source": [
    "all_filepaths = glob.glob(raw_data_path+\"*.txt\", recursive=True)\n",
    "print('Total number of paths:',len(all_filepaths))"
   ]
  },
  {
   "cell_type": "markdown",
   "metadata": {},
   "source": [
    "### File before wifi and sensor data records contains some info about the phone used for data collection.\n",
    "### We need to separate this header from the rest data. "
   ]
  },
  {
   "cell_type": "code",
   "execution_count": 5,
   "metadata": {},
   "outputs": [],
   "source": [
    "# Reading the first file\n",
    "for filepath in [all_filepaths[0]]:\n",
    "    # read record\n",
    "    with open(filepath, 'r') as f:\n",
    "        content = f.readlines()\n",
    "        f.close()\n",
    "    n_header_rows = count_header_row(content)\n",
    "    header = content[:n_header_rows]\n",
    "    # arranged_header = to_dict(header)\n",
    "    body = content[n_header_rows:-1]\n",
    "    len_columns = 10\n",
    "    columns = [f'column{i + 1}' for i in range(len_columns)]\n",
    "    data = []\n",
    "    for line in body:\n",
    "        cleansed_line = separate_line_if_needed(line)  # data cleansing\n",
    "        for line_ in cleansed_line:\n",
    "            fields = [field for field in line_.strip().split('\\t')]\n",
    "            if len(fields) < len_columns:\n",
    "                # padding\n",
    "                fields += [np.nan] * (len_columns - len(fields))\n",
    "            data.append(fields)\n",
    "    arranged_body = pd.DataFrame(data=data, columns=columns)"
   ]
  },
  {
   "cell_type": "code",
   "execution_count": 6,
   "metadata": {},
   "outputs": [
    {
     "data": {
      "text/html": [
       "<div>\n",
       "<style scoped>\n",
       "    .dataframe tbody tr th:only-of-type {\n",
       "        vertical-align: middle;\n",
       "    }\n",
       "\n",
       "    .dataframe tbody tr th {\n",
       "        vertical-align: top;\n",
       "    }\n",
       "\n",
       "    .dataframe thead th {\n",
       "        text-align: right;\n",
       "    }\n",
       "</style>\n",
       "<table border=\"1\" class=\"dataframe\">\n",
       "  <thead>\n",
       "    <tr style=\"text-align: right;\">\n",
       "      <th></th>\n",
       "      <th>column1</th>\n",
       "      <th>column2</th>\n",
       "      <th>column3</th>\n",
       "      <th>column4</th>\n",
       "      <th>column5</th>\n",
       "      <th>column6</th>\n",
       "      <th>column7</th>\n",
       "      <th>column8</th>\n",
       "      <th>column9</th>\n",
       "      <th>column10</th>\n",
       "    </tr>\n",
       "  </thead>\n",
       "  <tbody>\n",
       "    <tr>\n",
       "      <th>0</th>\n",
       "      <td>1633934463050</td>\n",
       "      <td>TYPE_GYROSCOPE</td>\n",
       "      <td>0.057114217</td>\n",
       "      <td>-0.060550235</td>\n",
       "      <td>0.0600921</td>\n",
       "      <td>3</td>\n",
       "      <td>NaN</td>\n",
       "      <td>NaN</td>\n",
       "      <td>NaN</td>\n",
       "      <td>NaN</td>\n",
       "    </tr>\n",
       "    <tr>\n",
       "      <th>1</th>\n",
       "      <td>1633934463050</td>\n",
       "      <td>TYPE_ROTATION_VECTOR</td>\n",
       "      <td>0.02550173</td>\n",
       "      <td>-0.62086284</td>\n",
       "      <td>-0.78178763</td>\n",
       "      <td>3</td>\n",
       "      <td>NaN</td>\n",
       "      <td>NaN</td>\n",
       "      <td>NaN</td>\n",
       "      <td>NaN</td>\n",
       "    </tr>\n",
       "    <tr>\n",
       "      <th>2</th>\n",
       "      <td>1633934463050</td>\n",
       "      <td>TYPE_ACCELEROMETER</td>\n",
       "      <td>0.32213375</td>\n",
       "      <td>9.477073</td>\n",
       "      <td>3.1106694</td>\n",
       "      <td>3</td>\n",
       "      <td>NaN</td>\n",
       "      <td>NaN</td>\n",
       "      <td>NaN</td>\n",
       "      <td>NaN</td>\n",
       "    </tr>\n",
       "    <tr>\n",
       "      <th>3</th>\n",
       "      <td>1633934463050</td>\n",
       "      <td>TYPE_MAGNETIC_FIELD</td>\n",
       "      <td>-0.93750006</td>\n",
       "      <td>-43.143753</td>\n",
       "      <td>7.05</td>\n",
       "      <td>1</td>\n",
       "      <td>NaN</td>\n",
       "      <td>NaN</td>\n",
       "      <td>NaN</td>\n",
       "      <td>NaN</td>\n",
       "    </tr>\n",
       "    <tr>\n",
       "      <th>4</th>\n",
       "      <td>1633934463050</td>\n",
       "      <td>TYPE_ACCELEROMETER_UNCALIBRATED</td>\n",
       "      <td>0.35353956</td>\n",
       "      <td>9.722038</td>\n",
       "      <td>1.7641085</td>\n",
       "      <td>0.0</td>\n",
       "      <td>0.0</td>\n",
       "      <td>0.0</td>\n",
       "      <td>3</td>\n",
       "      <td>NaN</td>\n",
       "    </tr>\n",
       "    <tr>\n",
       "      <th>5</th>\n",
       "      <td>1633934463050</td>\n",
       "      <td>TYPE_GYROSCOPE_UNCALIBRATED</td>\n",
       "      <td>0.05955761</td>\n",
       "      <td>-0.06024481</td>\n",
       "      <td>0.087274805</td>\n",
       "      <td>0.0024070654</td>\n",
       "      <td>2.818312E-4</td>\n",
       "      <td>0.027182959</td>\n",
       "      <td>3</td>\n",
       "      <td>NaN</td>\n",
       "    </tr>\n",
       "    <tr>\n",
       "      <th>6</th>\n",
       "      <td>1633934463050</td>\n",
       "      <td>TYPE_MAGNETIC_FIELD_UNCALIBRATED</td>\n",
       "      <td>-7.4625</td>\n",
       "      <td>-59.943752</td>\n",
       "      <td>52.95</td>\n",
       "      <td>-6.5260396</td>\n",
       "      <td>-16.783695</td>\n",
       "      <td>45.90095</td>\n",
       "      <td>3</td>\n",
       "      <td>NaN</td>\n",
       "    </tr>\n",
       "    <tr>\n",
       "      <th>7</th>\n",
       "      <td>1633934463100</td>\n",
       "      <td>TYPE_GYROSCOPE</td>\n",
       "      <td>0.051692948</td>\n",
       "      <td>-0.07765396</td>\n",
       "      <td>0.010689827</td>\n",
       "      <td>3</td>\n",
       "      <td>NaN</td>\n",
       "      <td>NaN</td>\n",
       "      <td>NaN</td>\n",
       "      <td>NaN</td>\n",
       "    </tr>\n",
       "    <tr>\n",
       "      <th>8</th>\n",
       "      <td>1633934463100</td>\n",
       "      <td>TYPE_ROTATION_VECTOR</td>\n",
       "      <td>0.02550173</td>\n",
       "      <td>-0.62086284</td>\n",
       "      <td>-0.78178763</td>\n",
       "      <td>3</td>\n",
       "      <td>NaN</td>\n",
       "      <td>NaN</td>\n",
       "      <td>NaN</td>\n",
       "      <td>NaN</td>\n",
       "    </tr>\n",
       "    <tr>\n",
       "      <th>9</th>\n",
       "      <td>1633934463100</td>\n",
       "      <td>TYPE_ACCELEROMETER</td>\n",
       "      <td>-0.38165522</td>\n",
       "      <td>9.307182</td>\n",
       "      <td>1.4635102</td>\n",
       "      <td>3</td>\n",
       "      <td>NaN</td>\n",
       "      <td>NaN</td>\n",
       "      <td>NaN</td>\n",
       "      <td>NaN</td>\n",
       "    </tr>\n",
       "  </tbody>\n",
       "</table>\n",
       "</div>"
      ],
      "text/plain": [
       "         column1                           column2      column3       column4  \\\n",
       "0  1633934463050                    TYPE_GYROSCOPE  0.057114217  -0.060550235   \n",
       "1  1633934463050              TYPE_ROTATION_VECTOR   0.02550173   -0.62086284   \n",
       "2  1633934463050                TYPE_ACCELEROMETER   0.32213375      9.477073   \n",
       "3  1633934463050               TYPE_MAGNETIC_FIELD  -0.93750006    -43.143753   \n",
       "4  1633934463050   TYPE_ACCELEROMETER_UNCALIBRATED   0.35353956      9.722038   \n",
       "5  1633934463050       TYPE_GYROSCOPE_UNCALIBRATED   0.05955761   -0.06024481   \n",
       "6  1633934463050  TYPE_MAGNETIC_FIELD_UNCALIBRATED      -7.4625    -59.943752   \n",
       "7  1633934463100                    TYPE_GYROSCOPE  0.051692948   -0.07765396   \n",
       "8  1633934463100              TYPE_ROTATION_VECTOR   0.02550173   -0.62086284   \n",
       "9  1633934463100                TYPE_ACCELEROMETER  -0.38165522      9.307182   \n",
       "\n",
       "        column5       column6      column7      column8 column9  column10  \n",
       "0    0.0600921              3          NaN          NaN     NaN       NaN  \n",
       "1  -0.78178763              3          NaN          NaN     NaN       NaN  \n",
       "2    3.1106694              3          NaN          NaN     NaN       NaN  \n",
       "3         7.05              1          NaN          NaN     NaN       NaN  \n",
       "4     1.7641085           0.0          0.0          0.0       3       NaN  \n",
       "5   0.087274805  0.0024070654  2.818312E-4  0.027182959       3       NaN  \n",
       "6         52.95    -6.5260396   -16.783695     45.90095       3       NaN  \n",
       "7  0.010689827              3          NaN          NaN     NaN       NaN  \n",
       "8  -0.78178763              3          NaN          NaN     NaN       NaN  \n",
       "9    1.4635102              3          NaN          NaN     NaN       NaN  "
      ]
     },
     "execution_count": 6,
     "metadata": {},
     "output_type": "execute_result"
    }
   ],
   "source": [
    "arranged_body.head(10)"
   ]
  },
  {
   "cell_type": "markdown",
   "metadata": {},
   "source": [
    "### For start we will only be using wifi sensor data.\n",
    "### Use only wifis which occur many times throughout our dataset (>MIN_OCCUR)"
   ]
  },
  {
   "cell_type": "code",
   "execution_count": 7,
   "metadata": {},
   "outputs": [
    {
     "name": "stdout",
     "output_type": "stream",
     "text": [
      "320\n"
     ]
    }
   ],
   "source": [
    "# csvs_path = '/home/gnas/IdealCities/data_csvs_throttling/'\n",
    "# Reading the first file\n",
    "dfs=[]\n",
    "dfsWP=[]\n",
    "for filepath in all_filepaths:\n",
    "    # read record\n",
    "    with open(filepath, 'r') as f:\n",
    "        content = f.readlines()\n",
    "        f.close()\n",
    "    n_header_rows = count_header_row(content)\n",
    "    header = content[:n_header_rows]\n",
    "    # arranged_header = to_dict(header)\n",
    "    body = content[n_header_rows:-1]\n",
    "    len_columns = 10\n",
    "    columns = [f'column{i + 1}' for i in range(len_columns)]\n",
    "    data = []\n",
    "    for line in body:\n",
    "        cleansed_line = separate_line_if_needed(line)  # data cleansing\n",
    "        for line_ in cleansed_line:\n",
    "            fields = [field for field in line_.strip().split('\\t')]\n",
    "            if len(fields) < len_columns:\n",
    "                # padding\n",
    "                fields += [np.nan] * (len_columns - len(fields))\n",
    "            data.append(fields)\n",
    "    df0 = pd.DataFrame(data=data, columns=columns)\n",
    "    #     # write files\n",
    "#     header_filepath=(filepath[:-3]+'txt').replace('data_collection_throttling/','data_headers_throttling/')\n",
    "#     with open(header_filepath, 'w') as f:\n",
    "#         f.writelines(header)\n",
    "#         f.close()\n",
    "        \n",
    "#     body_filepath=(filepath[:-3]+'csv').replace('data_collection_throttling/','data_csvs_throttling/')\n",
    "#     df0.to_csv(body_filepath, index=False)\n",
    "\n",
    "    dfsWP.append(df0.loc[df0.column2=='TYPE_CHECKPOINT',:])\n",
    "\n",
    "    df0 = df0.loc[df0.column2=='TYPE_WIFI',:]\n",
    "    dfs.append(df0)\n",
    "    gc.collect()\n",
    "\n",
    "    \n",
    "dfsWP = pd.concat(dfsWP)\n",
    "dfsWP.reset_index(drop=True,inplace=True)        \n",
    "#     value_counts = dfsWP.iloc[:,2].value_counts()\n",
    "\n",
    "df = pd.concat(dfs)\n",
    "df.reset_index(drop=True,inplace=True)        \n",
    "value_counts = df.iloc[:,2].value_counts()\n",
    "\n",
    "top_bssid = value_counts[value_counts > MIN_OCCUR].index.tolist()\n",
    "    \n",
    "    \n",
    "\n",
    "print(len(top_bssid))"
   ]
  },
  {
   "cell_type": "code",
   "execution_count": null,
   "metadata": {},
   "outputs": [],
   "source": []
  },
  {
   "cell_type": "code",
   "execution_count": 9,
   "metadata": {},
   "outputs": [
    {
     "data": {
      "image/png": "[encoded data removed]",
      "text/plain": [
       "<Figure size 432x288 with 1 Axes>"
      ]
     },
     "metadata": {
      "needs_background": "light"
     },
     "output_type": "display_data"
    }
   ],
   "source": [
    "plt.hist( df.iloc[:,2].value_counts().values)\n",
    "plt.show()"
   ]
  },
  {
   "cell_type": "code",
   "execution_count": 10,
   "metadata": {},
   "outputs": [],
   "source": [
    "# df.iloc[:,2].value_counts()"
   ]
  },
  {
   "cell_type": "code",
   "execution_count": 11,
   "metadata": {},
   "outputs": [
    {
     "data": {
      "text/plain": [
       "(729126, 10)"
      ]
     },
     "execution_count": 11,
     "metadata": {},
     "output_type": "execute_result"
    }
   ],
   "source": [
    "df.shape"
   ]
  },
  {
   "cell_type": "code",
   "execution_count": 12,
   "metadata": {},
   "outputs": [
    {
     "data": {
      "text/html": [
       "<div>\n",
       "<style scoped>\n",
       "    .dataframe tbody tr th:only-of-type {\n",
       "        vertical-align: middle;\n",
       "    }\n",
       "\n",
       "    .dataframe tbody tr th {\n",
       "        vertical-align: top;\n",
       "    }\n",
       "\n",
       "    .dataframe thead th {\n",
       "        text-align: right;\n",
       "    }\n",
       "</style>\n",
       "<table border=\"1\" class=\"dataframe\">\n",
       "  <thead>\n",
       "    <tr style=\"text-align: right;\">\n",
       "      <th></th>\n",
       "      <th>column1</th>\n",
       "      <th>column2</th>\n",
       "      <th>column3</th>\n",
       "      <th>column4</th>\n",
       "      <th>column5</th>\n",
       "      <th>column6</th>\n",
       "      <th>column7</th>\n",
       "      <th>column8</th>\n",
       "      <th>column9</th>\n",
       "      <th>column10</th>\n",
       "    </tr>\n",
       "  </thead>\n",
       "  <tbody>\n",
       "    <tr>\n",
       "      <th>0</th>\n",
       "      <td>1633934465112</td>\n",
       "      <td>TYPE_WIFI</td>\n",
       "      <td>78:72:5d:42:c6:4e</td>\n",
       "      <td>BU-WiFi</td>\n",
       "      <td>-43</td>\n",
       "      <td>5220</td>\n",
       "      <td>1633934446546</td>\n",
       "      <td>NaN</td>\n",
       "      <td>NaN</td>\n",
       "      <td>NaN</td>\n",
       "    </tr>\n",
       "    <tr>\n",
       "      <th>1</th>\n",
       "      <td>1633934465112</td>\n",
       "      <td>TYPE_WIFI</td>\n",
       "      <td>78:72:5d:42:c6:4c</td>\n",
       "      <td>eduroam</td>\n",
       "      <td>-43</td>\n",
       "      <td>5220</td>\n",
       "      <td>1633934446546</td>\n",
       "      <td>NaN</td>\n",
       "      <td>NaN</td>\n",
       "      <td>NaN</td>\n",
       "    </tr>\n",
       "    <tr>\n",
       "      <th>2</th>\n",
       "      <td>1633934465112</td>\n",
       "      <td>TYPE_WIFI</td>\n",
       "      <td>78:72:5d:42:c6:4b</td>\n",
       "      <td>_The Cloud</td>\n",
       "      <td>-44</td>\n",
       "      <td>5220</td>\n",
       "      <td>1633934446547</td>\n",
       "      <td>NaN</td>\n",
       "      <td>NaN</td>\n",
       "      <td>NaN</td>\n",
       "    </tr>\n",
       "    <tr>\n",
       "      <th>3</th>\n",
       "      <td>1633934465112</td>\n",
       "      <td>TYPE_WIFI</td>\n",
       "      <td>78:72:5d:42:c6:43</td>\n",
       "      <td>eduroam</td>\n",
       "      <td>-48</td>\n",
       "      <td>2437</td>\n",
       "      <td>1633934445935</td>\n",
       "      <td>NaN</td>\n",
       "      <td>NaN</td>\n",
       "      <td>NaN</td>\n",
       "    </tr>\n",
       "    <tr>\n",
       "      <th>4</th>\n",
       "      <td>1633934465112</td>\n",
       "      <td>TYPE_WIFI</td>\n",
       "      <td>78:72:5d:42:c6:40</td>\n",
       "      <td>BU-WiFi (Legacy)</td>\n",
       "      <td>-48</td>\n",
       "      <td>2437</td>\n",
       "      <td>1633934445927</td>\n",
       "      <td>NaN</td>\n",
       "      <td>NaN</td>\n",
       "      <td>NaN</td>\n",
       "    </tr>\n",
       "  </tbody>\n",
       "</table>\n",
       "</div>"
      ],
      "text/plain": [
       "         column1    column2            column3           column4 column5  \\\n",
       "0  1633934465112  TYPE_WIFI  78:72:5d:42:c6:4e           BU-WiFi     -43   \n",
       "1  1633934465112  TYPE_WIFI  78:72:5d:42:c6:4c           eduroam     -43   \n",
       "2  1633934465112  TYPE_WIFI  78:72:5d:42:c6:4b        _The Cloud     -44   \n",
       "3  1633934465112  TYPE_WIFI  78:72:5d:42:c6:43           eduroam     -48   \n",
       "4  1633934465112  TYPE_WIFI  78:72:5d:42:c6:40  BU-WiFi (Legacy)     -48   \n",
       "\n",
       "  column6        column7 column8 column9  column10  \n",
       "0    5220  1633934446546     NaN     NaN       NaN  \n",
       "1    5220  1633934446546     NaN     NaN       NaN  \n",
       "2    5220  1633934446547     NaN     NaN       NaN  \n",
       "3    2437  1633934445935     NaN     NaN       NaN  \n",
       "4    2437  1633934445927     NaN     NaN       NaN  "
      ]
     },
     "execution_count": 12,
     "metadata": {},
     "output_type": "execute_result"
    }
   ],
   "source": [
    "df.head()"
   ]
  },
  {
   "cell_type": "code",
   "execution_count": 13,
   "metadata": {},
   "outputs": [],
   "source": [
    "unwifis=df.column4.unique()\n",
    "# unwifis"
   ]
  },
  {
   "cell_type": "markdown",
   "metadata": {},
   "source": [
    "### Remove hotspots of mobile phones"
   ]
  },
  {
   "cell_type": "code",
   "execution_count": 14,
   "metadata": {},
   "outputs": [],
   "source": [
    "mobileHotspots=['Android', 'Galaxy', 'iPhone', 'iphone', 'HUAWEI', 'Pixel_', 'Nokia', 'Honor']\n",
    "newwifilist=unwifis.copy()\n",
    "for hs in mobileHotspots:\n",
    "    newwifilist = [x for x in newwifilist if hs not in str(x)]\n",
    "# newwifilist"
   ]
  },
  {
   "cell_type": "code",
   "execution_count": 15,
   "metadata": {},
   "outputs": [
    {
     "name": "stdout",
     "output_type": "stream",
     "text": [
      "2748  records will be removed from data set\n"
     ]
    }
   ],
   "source": [
    "print(df.shape[0]- df.loc[df.column4.isin(newwifilist),:].shape[0],' records will be removed from data set')"
   ]
  },
  {
   "cell_type": "code",
   "execution_count": 16,
   "metadata": {},
   "outputs": [
    {
     "name": "stdout",
     "output_type": "stream",
     "text": [
      "Total number of different bssids in data set: 312\n"
     ]
    }
   ],
   "source": [
    "df=df.loc[df.column4.isin(newwifilist),:].reset_index(drop=True)\n",
    "value_counts = df.iloc[:,2].value_counts()\n",
    "\n",
    "top_bssid = value_counts[value_counts > MIN_OCCUR].index.tolist()\n",
    "print('Total number of different bssids in data set:',len(top_bssid))"
   ]
  },
  {
   "cell_type": "code",
   "execution_count": 17,
   "metadata": {},
   "outputs": [],
   "source": [
    "df.loc[:,['column1','column5','column6','column7']]=df.loc[:,['column1','column5','column6','column7']].astype(int)"
   ]
  },
  {
   "cell_type": "code",
   "execution_count": 18,
   "metadata": {},
   "outputs": [
    {
     "data": {
      "text/plain": [
       "column1       int64\n",
       "column2      object\n",
       "column3      object\n",
       "column4      object\n",
       "column5       int64\n",
       "column6       int64\n",
       "column7       int64\n",
       "column8      object\n",
       "column9      object\n",
       "column10    float64\n",
       "dtype: object"
      ]
     },
     "execution_count": 18,
     "metadata": {},
     "output_type": "execute_result"
    }
   ],
   "source": [
    "df.dtypes"
   ]
  },
  {
   "cell_type": "code",
   "execution_count": 19,
   "metadata": {},
   "outputs": [
    {
     "data": {
      "image/png": "[encoded data removed]",
      "text/plain": [
       "<Figure size 432x288 with 1 Axes>"
      ]
     },
     "metadata": {
      "needs_background": "light"
     },
     "output_type": "display_data"
    }
   ],
   "source": [
    "plt.hist(df.column5.values,100)\n",
    "plt.title('wifis strengths in data set')\n",
    "plt.show()"
   ]
  },
  {
   "cell_type": "code",
   "execution_count": 21,
   "metadata": {
    "scrolled": true
   },
   "outputs": [],
   "source": [
    "dfsWP.column3=dfsWP.column3.astype(int)"
   ]
  },
  {
   "cell_type": "code",
   "execution_count": 32,
   "metadata": {
    "scrolled": true
   },
   "outputs": [],
   "source": [
    "# df.loc[df.column2=='TYPE_CHECKPOINT']\n",
    "a=dfsWP.groupby('column3', as_index=False).count().iloc[:,:2].sort_values('column1',ascending=False).reset_index(drop=True)\n",
    "# a"
   ]
  },
  {
   "cell_type": "code",
   "execution_count": 23,
   "metadata": {},
   "outputs": [
    {
     "data": {
      "image/png": "[encoded data removed]",
      "text/plain": [
       "<Figure size 432x288 with 1 Axes>"
      ]
     },
     "metadata": {
      "needs_background": "light"
     },
     "output_type": "display_data"
    }
   ],
   "source": [
    "plt.plot(a.column3,a.column1,'o')\n",
    "plt.show()"
   ]
  },
  {
   "cell_type": "code",
   "execution_count": 24,
   "metadata": {},
   "outputs": [
    {
     "data": {
      "image/png": "[encoded data removed]",
      "text/plain": [
       "<Figure size 432x288 with 1 Axes>"
      ]
     },
     "metadata": {
      "needs_background": "light"
     },
     "output_type": "display_data"
    }
   ],
   "source": [
    "plt.hist(dfsWP.groupby('column3', as_index=False).count().iloc[:,:2].sort_values('column1',ascending=False).reset_index().column1.values,90)\n",
    "plt.show()"
   ]
  },
  {
   "cell_type": "code",
   "execution_count": 25,
   "metadata": {
    "scrolled": true
   },
   "outputs": [],
   "source": [
    "# import matplotlib.pyplot as plt\n",
    "# plt.hist(value_counts, 50)\n",
    "# plt.show()"
   ]
  },
  {
   "cell_type": "code",
   "execution_count": null,
   "metadata": {},
   "outputs": [],
   "source": []
  },
  {
   "cell_type": "code",
   "execution_count": 26,
   "metadata": {},
   "outputs": [],
   "source": [
    "bssid={}\n",
    "bssid['Building0_floor0'] = top_bssid"
   ]
  },
  {
   "cell_type": "code",
   "execution_count": 27,
   "metadata": {},
   "outputs": [],
   "source": [
    "with open(\"bssid_\"+str(MIN_OCCUR)+\"_getWifisFromText.json\", \"w\") as f:\n",
    "    json.dump(bssid, f)\n",
    "\n",
    "with open(\"bssid_\"+str(MIN_OCCUR)+\"_getWifisFromText.json\") as f:\n",
    "    bssid = json.load(f)\n",
    "    \n",
    "# with open(\"bssid_\"+str(MIN_OCCUR)+\"_clean.json\") as f:\n",
    "#     bssid = json.load(f)"
   ]
  },
  {
   "cell_type": "code",
   "execution_count": null,
   "metadata": {
    "scrolled": true
   },
   "outputs": [],
   "source": []
  },
  {
   "cell_type": "markdown",
   "metadata": {},
   "source": [
    "### Create dataset\n",
    "### Use only wifis from newwifilist\n",
    "### Don't use files with num checkpoints less than MIN_CHECKPOINTS"
   ]
  },
  {
   "cell_type": "code",
   "execution_count": 28,
   "metadata": {},
   "outputs": [],
   "source": [
    "index = sorted(bssid['Building0_floor0'])\n",
    "# files = os.listdir(csvs_path)\n",
    "dfs=[]\n",
    "# for file in files:\n",
    "for filepath in all_filepaths:    \n",
    "#     df0 = pd.read_csv(csvs_path+file)\n",
    "    with open(filepath, 'r') as f:\n",
    "        content = f.readlines()\n",
    "        f.close()\n",
    "    n_header_rows = count_header_row(content)\n",
    "    header = content[:n_header_rows]\n",
    "    # arranged_header = to_dict(header)\n",
    "    body = content[n_header_rows:-1]\n",
    "    len_columns = 10\n",
    "    columns = [f'column{i + 1}' for i in range(len_columns)]\n",
    "    data = []\n",
    "    for line in body:\n",
    "        cleansed_line = separate_line_if_needed(line)  # data cleansing\n",
    "        for line_ in cleansed_line:\n",
    "            fields = [field for field in line_.strip().split('\\t')]\n",
    "            if len(fields) < len_columns:\n",
    "                # padding\n",
    "                fields += [np.nan] * (len_columns - len(fields))\n",
    "            data.append(fields)\n",
    "    df0 = pd.DataFrame(data=data, columns=columns)\n",
    "    \n",
    "    # Correct wifi times if needed \n",
    "    df0.loc[df0.column2=='TYPE_WIFI','column1']=np.nan\n",
    "    df0.loc[:,'column1'].fillna(method='ffill',inplace=True)\n",
    "    df0.column1=df0.column1.astype(int)\n",
    "    \n",
    "    df = df0.loc[df0.column2=='TYPE_WIFI',:]\n",
    "    df_wp = df0.loc[df0.column2=='TYPE_CHECKPOINT',:]\n",
    "\n",
    "    # only use data in wifilist - exclude mobile phones and wifis with few occurrences\n",
    "    df=df.loc[df.column4.isin(newwifilist),:].reset_index(drop=True)\n",
    "    \n",
    "    # If number of checkpoint in file is less than min, don't include this file\n",
    "    if len(df_wp)<MIN_CHECKPOINTS:\n",
    "        continue\n",
    "\n",
    "\n",
    "    # generate a feature, and label for each wifi block\n",
    "    for gid, g in df.groupby('column1'):\n",
    "        dists = list()\n",
    "#                 for e, k in enumerate(df_wp):\n",
    "        for k in range(len(df_wp)):\n",
    "            dist = abs(int(gid) - int(df_wp.iloc[k,0]))\n",
    "#                     dist = abs(int(gid) - int(k[0]))\n",
    "            dists.append(dist)\n",
    "        nearest_wp_index = np.argmin(dists)\n",
    "\n",
    "        g = g.drop_duplicates(subset='column3')\n",
    "        tmp = g.iloc[:,[2,4]]\n",
    "        feat = tmp.set_index('column3').reindex(index).replace(np.nan, -999).T\n",
    "\n",
    "        feat[\"x\"] = float(pointsDdf.x.loc[pointsDdf.num==int(df_wp.iloc[nearest_wp_index,2])].values[0])\n",
    "        feat[\"y\"] = float(pointsDdf.y.loc[pointsDdf.num==int(df_wp.iloc[nearest_wp_index,2])].values[0]) \n",
    "        \n",
    "        feat[\"timestamp\"] = int(gid)\n",
    "        feat[\"gs\"] =  ''.join([x[0] for x in g.column6.astype('int').astype('str').values.tolist()])\n",
    "#         feat[\"f\"] = floor\n",
    "#         feat[\"path\"] = file.split('.')[0] # useful for crossvalidation\n",
    "        feat[\"path\"] = filepath.split('/')[-1].split('.')[0] # useful for crossvalidation\n",
    "    \n",
    "        dfs.append(feat)\n",
    "#     break\n",
    "building_df = pd.concat(dfs)\n",
    "building_df.reset_index(drop=True, inplace=True)\n",
    "#     building_dfs[building] = df\n",
    "# building_df.to_csv(SAVEDIR+building+\"_\"+str(MIN_OCCUR)+\"_train.csv\")"
   ]
  },
  {
   "cell_type": "code",
   "execution_count": null,
   "metadata": {},
   "outputs": [],
   "source": []
  },
  {
   "cell_type": "markdown",
   "metadata": {
    "scrolled": true
   },
   "source": [
    "### Save dataset in disk"
   ]
  },
  {
   "cell_type": "code",
   "execution_count": 29,
   "metadata": {},
   "outputs": [],
   "source": [
    "building_df.to_csv(\"Building0\"+str(MIN_OCCUR)+\"_getWifisFromText.csv\")"
   ]
  },
  {
   "cell_type": "code",
   "execution_count": 30,
   "metadata": {
    "scrolled": true
   },
   "outputs": [
    {
     "data": {
      "text/html": [
       "<div>\n",
       "<style scoped>\n",
       "    .dataframe tbody tr th:only-of-type {\n",
       "        vertical-align: middle;\n",
       "    }\n",
       "\n",
       "    .dataframe tbody tr th {\n",
       "        vertical-align: top;\n",
       "    }\n",
       "\n",
       "    .dataframe thead th {\n",
       "        text-align: right;\n",
       "    }\n",
       "</style>\n",
       "<table border=\"1\" class=\"dataframe\">\n",
       "  <thead>\n",
       "    <tr style=\"text-align: right;\">\n",
       "      <th>column3</th>\n",
       "      <th>00:12:5f:0a:9e:e6</th>\n",
       "      <th>00:12:5f:10:05:64</th>\n",
       "      <th>00:12:5f:12:0b:ce</th>\n",
       "      <th>00:33:bb:1e:4f:56</th>\n",
       "      <th>00:b7:71:00:46:a0</th>\n",
       "      <th>00:b7:71:00:46:a3</th>\n",
       "      <th>00:b7:71:00:46:a4</th>\n",
       "      <th>00:b7:71:00:46:ab</th>\n",
       "      <th>00:b7:71:00:46:ac</th>\n",
       "      <th>00:b7:71:00:46:ae</th>\n",
       "      <th>...</th>\n",
       "      <th>f4:db:e6:3e:8c:e4</th>\n",
       "      <th>f4:db:e6:3e:8c:eb</th>\n",
       "      <th>f4:db:e6:3e:8c:ec</th>\n",
       "      <th>f4:db:e6:3e:8c:ee</th>\n",
       "      <th>f8:9a:78:63:cf:07</th>\n",
       "      <th>x</th>\n",
       "      <th>y</th>\n",
       "      <th>timestamp</th>\n",
       "      <th>gs</th>\n",
       "      <th>path</th>\n",
       "    </tr>\n",
       "  </thead>\n",
       "  <tbody>\n",
       "    <tr>\n",
       "      <th>0</th>\n",
       "      <td>-93</td>\n",
       "      <td>-999</td>\n",
       "      <td>-81</td>\n",
       "      <td>-999</td>\n",
       "      <td>-999</td>\n",
       "      <td>-999</td>\n",
       "      <td>-999</td>\n",
       "      <td>-999</td>\n",
       "      <td>-999</td>\n",
       "      <td>-999</td>\n",
       "      <td>...</td>\n",
       "      <td>-999</td>\n",
       "      <td>-999</td>\n",
       "      <td>-999</td>\n",
       "      <td>-999</td>\n",
       "      <td>-999</td>\n",
       "      <td>43.26</td>\n",
       "      <td>25.89</td>\n",
       "      <td>1633934464983</td>\n",
       "      <td>5552225552255555522252225522222222225552555555...</td>\n",
       "      <td>record_2021_10_11_07_41_02</td>\n",
       "    </tr>\n",
       "    <tr>\n",
       "      <th>1</th>\n",
       "      <td>-93</td>\n",
       "      <td>-999</td>\n",
       "      <td>-81</td>\n",
       "      <td>-999</td>\n",
       "      <td>-999</td>\n",
       "      <td>-999</td>\n",
       "      <td>-999</td>\n",
       "      <td>-999</td>\n",
       "      <td>-999</td>\n",
       "      <td>-999</td>\n",
       "      <td>...</td>\n",
       "      <td>-999</td>\n",
       "      <td>-999</td>\n",
       "      <td>-999</td>\n",
       "      <td>-999</td>\n",
       "      <td>-999</td>\n",
       "      <td>43.26</td>\n",
       "      <td>25.89</td>\n",
       "      <td>1633934467125</td>\n",
       "      <td>5552225552255555522252225522222222225552555555...</td>\n",
       "      <td>record_2021_10_11_07_41_02</td>\n",
       "    </tr>\n",
       "    <tr>\n",
       "      <th>2</th>\n",
       "      <td>-999</td>\n",
       "      <td>-999</td>\n",
       "      <td>-999</td>\n",
       "      <td>-999</td>\n",
       "      <td>-999</td>\n",
       "      <td>-999</td>\n",
       "      <td>-999</td>\n",
       "      <td>-999</td>\n",
       "      <td>-999</td>\n",
       "      <td>-999</td>\n",
       "      <td>...</td>\n",
       "      <td>-999</td>\n",
       "      <td>-999</td>\n",
       "      <td>-999</td>\n",
       "      <td>-999</td>\n",
       "      <td>-999</td>\n",
       "      <td>43.26</td>\n",
       "      <td>25.89</td>\n",
       "      <td>1633934469251</td>\n",
       "      <td>55522255555525222222255252552525552252</td>\n",
       "      <td>record_2021_10_11_07_41_02</td>\n",
       "    </tr>\n",
       "    <tr>\n",
       "      <th>3</th>\n",
       "      <td>-999</td>\n",
       "      <td>-999</td>\n",
       "      <td>-999</td>\n",
       "      <td>-999</td>\n",
       "      <td>-999</td>\n",
       "      <td>-999</td>\n",
       "      <td>-999</td>\n",
       "      <td>-999</td>\n",
       "      <td>-999</td>\n",
       "      <td>-999</td>\n",
       "      <td>...</td>\n",
       "      <td>-999</td>\n",
       "      <td>-999</td>\n",
       "      <td>-999</td>\n",
       "      <td>-999</td>\n",
       "      <td>-999</td>\n",
       "      <td>43.26</td>\n",
       "      <td>25.89</td>\n",
       "      <td>1633934471370</td>\n",
       "      <td>55522255555525222222255252552525552252</td>\n",
       "      <td>record_2021_10_11_07_41_02</td>\n",
       "    </tr>\n",
       "    <tr>\n",
       "      <th>4</th>\n",
       "      <td>-78</td>\n",
       "      <td>-999</td>\n",
       "      <td>-999</td>\n",
       "      <td>-95</td>\n",
       "      <td>-999</td>\n",
       "      <td>-999</td>\n",
       "      <td>-999</td>\n",
       "      <td>-999</td>\n",
       "      <td>-999</td>\n",
       "      <td>-999</td>\n",
       "      <td>...</td>\n",
       "      <td>-999</td>\n",
       "      <td>-999</td>\n",
       "      <td>-999</td>\n",
       "      <td>-999</td>\n",
       "      <td>-999</td>\n",
       "      <td>40.85</td>\n",
       "      <td>25.74</td>\n",
       "      <td>1633934473508</td>\n",
       "      <td>55522255522222555555222552222222</td>\n",
       "      <td>record_2021_10_11_07_41_02</td>\n",
       "    </tr>\n",
       "  </tbody>\n",
       "</table>\n",
       "<p>5 rows × 317 columns</p>\n",
       "</div>"
      ],
      "text/plain": [
       "column3 00:12:5f:0a:9e:e6 00:12:5f:10:05:64 00:12:5f:12:0b:ce  \\\n",
       "0                     -93              -999               -81   \n",
       "1                     -93              -999               -81   \n",
       "2                    -999              -999              -999   \n",
       "3                    -999              -999              -999   \n",
       "4                     -78              -999              -999   \n",
       "\n",
       "column3 00:33:bb:1e:4f:56 00:b7:71:00:46:a0 00:b7:71:00:46:a3  \\\n",
       "0                    -999              -999              -999   \n",
       "1                    -999              -999              -999   \n",
       "2                    -999              -999              -999   \n",
       "3                    -999              -999              -999   \n",
       "4                     -95              -999              -999   \n",
       "\n",
       "column3 00:b7:71:00:46:a4 00:b7:71:00:46:ab 00:b7:71:00:46:ac  \\\n",
       "0                    -999              -999              -999   \n",
       "1                    -999              -999              -999   \n",
       "2                    -999              -999              -999   \n",
       "3                    -999              -999              -999   \n",
       "4                    -999              -999              -999   \n",
       "\n",
       "column3 00:b7:71:00:46:ae  ... f4:db:e6:3e:8c:e4 f4:db:e6:3e:8c:eb  \\\n",
       "0                    -999  ...              -999              -999   \n",
       "1                    -999  ...              -999              -999   \n",
       "2                    -999  ...              -999              -999   \n",
       "3                    -999  ...              -999              -999   \n",
       "4                    -999  ...              -999              -999   \n",
       "\n",
       "column3 f4:db:e6:3e:8c:ec f4:db:e6:3e:8c:ee f8:9a:78:63:cf:07      x      y  \\\n",
       "0                    -999              -999              -999  43.26  25.89   \n",
       "1                    -999              -999              -999  43.26  25.89   \n",
       "2                    -999              -999              -999  43.26  25.89   \n",
       "3                    -999              -999              -999  43.26  25.89   \n",
       "4                    -999              -999              -999  40.85  25.74   \n",
       "\n",
       "column3      timestamp                                                 gs  \\\n",
       "0        1633934464983  5552225552255555522252225522222222225552555555...   \n",
       "1        1633934467125  5552225552255555522252225522222222225552555555...   \n",
       "2        1633934469251             55522255555525222222255252552525552252   \n",
       "3        1633934471370             55522255555525222222255252552525552252   \n",
       "4        1633934473508                   55522255522222555555222552222222   \n",
       "\n",
       "column3                        path  \n",
       "0        record_2021_10_11_07_41_02  \n",
       "1        record_2021_10_11_07_41_02  \n",
       "2        record_2021_10_11_07_41_02  \n",
       "3        record_2021_10_11_07_41_02  \n",
       "4        record_2021_10_11_07_41_02  \n",
       "\n",
       "[5 rows x 317 columns]"
      ]
     },
     "execution_count": 30,
     "metadata": {},
     "output_type": "execute_result"
    }
   ],
   "source": [
    "building_df.head()"
   ]
  },
  {
   "cell_type": "code",
   "execution_count": 31,
   "metadata": {},
   "outputs": [
    {
     "data": {
      "text/plain": [
       "(14373, 317)"
      ]
     },
     "execution_count": 31,
     "metadata": {},
     "output_type": "execute_result"
    }
   ],
   "source": [
    "building_df.shape"
   ]
  },
  {
   "cell_type": "code",
   "execution_count": null,
   "metadata": {},
   "outputs": [],
   "source": []
  },
  {
   "cell_type": "code",
   "execution_count": null,
   "metadata": {},
   "outputs": [],
   "source": []
  }
 ],
 "metadata": {
  "kernelspec": {
   "display_name": "Python 3",
   "language": "python",
   "name": "python3"
  },
  "language_info": {
   "codemirror_mode": {
    "name": "ipython",
    "version": 3
   },
   "file_extension": ".py",
   "mimetype": "text/x-python",
   "name": "python",
   "nbconvert_exporter": "python",
   "pygments_lexer": "ipython3",
   "version": "3.6.8"
  }
 },
 "nbformat": 4,
 "nbformat_minor": 2
}
